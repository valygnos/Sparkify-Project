{
 "cells": [
  {
   "cell_type": "markdown",
   "metadata": {},
   "source": [
    "# Sparkify Project Workspace\n",
    "This workspace contains a tiny subset (128MB) of the full dataset available (12GB). Feel free to use this workspace to build your project, or to explore a smaller subset with Spark before deploying your cluster on the cloud. Instructions for setting up your Spark cluster is included in the last lesson of the Extracurricular Spark Course content.\n",
    "\n",
    "You can follow the steps below to guide your data analysis and model building portion of this project."
   ]
  },
  {
   "cell_type": "code",
   "execution_count": 75,
   "metadata": {},
   "outputs": [],
   "source": [
    "# import libraries\n",
    "import pandas as pd\n",
    "import json\n",
    "from pyspark.sql import SparkSession\n",
    "from pyspark.sql.types import IntegerType, TimestampType\n",
    "from pyspark.sql.functions import isnan, when, count, col, udf, split, to_date, max, countDistinct, avg, date_format\n",
    "from pyspark.sql import functions as sF\n",
    "%matplotlib inline\n",
    "import matplotlib.pyplot as plt\n",
    "from matplotlib import gridspec\n",
    "import seaborn as sb\n",
    "from functools import reduce\n",
    "from pyspark.sql.functions import hour, from_unixtime, col, month, dayofweek"
   ]
  },
  {
   "cell_type": "code",
   "execution_count": 76,
   "metadata": {},
   "outputs": [],
   "source": [
    "\n",
    "# create a Spark session\n",
    "spark = SparkSession.builder \\\n",
    "    .master(\"local\") \\\n",
    "    .config(\"spark.executor.memory\", \"8g\") \\\n",
    "    .appName(\"Creating Features\") \\\n",
    "    .getOrCreate()\n",
    "\n",
    "stack_overflow_data = 'mini_sparkify_event_data.json'\n"
   ]
  },
  {
   "cell_type": "markdown",
   "metadata": {},
   "source": [
    "# Load and Clean Dataset\n",
    "In this workspace, the mini-dataset file is `mini_sparkify_event_data.json`. Load and clean the dataset, checking for invalid or missing data - for example, records without userids or sessionids. "
   ]
  },
  {
   "cell_type": "code",
   "execution_count": 77,
   "metadata": {},
   "outputs": [
    {
     "data": {
      "text/plain": [
       "DataFrame[artist: string, auth: string, firstName: string, gender: string, itemInSession: bigint, lastName: string, length: double, level: string, location: string, method: string, page: string, registration: bigint, sessionId: bigint, song: string, status: bigint, ts: bigint, userAgent: string, userId: string]"
      ]
     },
     "execution_count": 77,
     "metadata": {},
     "output_type": "execute_result"
    }
   ],
   "source": [
    "df = spark.read.json(stack_overflow_data)\n",
    "df.persist()"
   ]
  },
  {
   "cell_type": "code",
   "execution_count": 78,
   "metadata": {},
   "outputs": [
    {
     "name": "stdout",
     "output_type": "stream",
     "text": [
      "(286500, 18)\n"
     ]
    }
   ],
   "source": [
    "print((df.count(), len(df.columns)))"
   ]
  },
  {
   "cell_type": "code",
   "execution_count": 79,
   "metadata": {},
   "outputs": [
    {
     "name": "stdout",
     "output_type": "stream",
     "text": [
      "root\n",
      " |-- artist: string (nullable = true)\n",
      " |-- auth: string (nullable = true)\n",
      " |-- firstName: string (nullable = true)\n",
      " |-- gender: string (nullable = true)\n",
      " |-- itemInSession: long (nullable = true)\n",
      " |-- lastName: string (nullable = true)\n",
      " |-- length: double (nullable = true)\n",
      " |-- level: string (nullable = true)\n",
      " |-- location: string (nullable = true)\n",
      " |-- method: string (nullable = true)\n",
      " |-- page: string (nullable = true)\n",
      " |-- registration: long (nullable = true)\n",
      " |-- sessionId: long (nullable = true)\n",
      " |-- song: string (nullable = true)\n",
      " |-- status: long (nullable = true)\n",
      " |-- ts: long (nullable = true)\n",
      " |-- userAgent: string (nullable = true)\n",
      " |-- userId: string (nullable = true)\n",
      "\n"
     ]
    }
   ],
   "source": [
    "df.printSchema()"
   ]
  },
  {
   "cell_type": "code",
   "execution_count": 80,
   "metadata": {},
   "outputs": [
    {
     "data": {
      "text/plain": [
       "[Row(artist='Martha Tilston', auth='Logged In', firstName='Colin', gender='M', itemInSession=50, lastName='Freeman', length=277.89016, level='paid', location='Bakersfield, CA', method='PUT', page='NextSong', registration=1538173362000, sessionId=29, song='Rockpools', status=200, ts=1538352117000, userAgent='Mozilla/5.0 (Windows NT 6.1; WOW64; rv:31.0) Gecko/20100101 Firefox/31.0', userId='30')]"
      ]
     },
     "execution_count": 80,
     "metadata": {},
     "output_type": "execute_result"
    }
   ],
   "source": [
    "df.head(1)"
   ]
  },
  {
   "cell_type": "code",
   "execution_count": 81,
   "metadata": {},
   "outputs": [
    {
     "data": {
      "text/html": [
       "<div>\n",
       "<style scoped>\n",
       "    .dataframe tbody tr th:only-of-type {\n",
       "        vertical-align: middle;\n",
       "    }\n",
       "\n",
       "    .dataframe tbody tr th {\n",
       "        vertical-align: top;\n",
       "    }\n",
       "\n",
       "    .dataframe thead th {\n",
       "        text-align: right;\n",
       "    }\n",
       "</style>\n",
       "<table border=\"1\" class=\"dataframe\">\n",
       "  <thead>\n",
       "    <tr style=\"text-align: right;\">\n",
       "      <th></th>\n",
       "      <th>artist</th>\n",
       "      <th>auth</th>\n",
       "      <th>firstName</th>\n",
       "      <th>gender</th>\n",
       "      <th>itemInSession</th>\n",
       "      <th>lastName</th>\n",
       "      <th>length</th>\n",
       "      <th>level</th>\n",
       "      <th>location</th>\n",
       "      <th>method</th>\n",
       "      <th>page</th>\n",
       "      <th>registration</th>\n",
       "      <th>sessionId</th>\n",
       "      <th>song</th>\n",
       "      <th>status</th>\n",
       "      <th>ts</th>\n",
       "      <th>userAgent</th>\n",
       "      <th>userId</th>\n",
       "    </tr>\n",
       "  </thead>\n",
       "  <tbody>\n",
       "    <tr>\n",
       "      <th>0</th>\n",
       "      <td>Martha Tilston</td>\n",
       "      <td>Logged In</td>\n",
       "      <td>Colin</td>\n",
       "      <td>M</td>\n",
       "      <td>50</td>\n",
       "      <td>Freeman</td>\n",
       "      <td>277.89016</td>\n",
       "      <td>paid</td>\n",
       "      <td>Bakersfield, CA</td>\n",
       "      <td>PUT</td>\n",
       "      <td>NextSong</td>\n",
       "      <td>1.538173e+12</td>\n",
       "      <td>29</td>\n",
       "      <td>Rockpools</td>\n",
       "      <td>200</td>\n",
       "      <td>1538352117000</td>\n",
       "      <td>Mozilla/5.0 (Windows NT 6.1; WOW64; rv:31.0) G...</td>\n",
       "      <td>30</td>\n",
       "    </tr>\n",
       "    <tr>\n",
       "      <th>1</th>\n",
       "      <td>Five Iron Frenzy</td>\n",
       "      <td>Logged In</td>\n",
       "      <td>Micah</td>\n",
       "      <td>M</td>\n",
       "      <td>79</td>\n",
       "      <td>Long</td>\n",
       "      <td>236.09424</td>\n",
       "      <td>free</td>\n",
       "      <td>Boston-Cambridge-Newton, MA-NH</td>\n",
       "      <td>PUT</td>\n",
       "      <td>NextSong</td>\n",
       "      <td>1.538332e+12</td>\n",
       "      <td>8</td>\n",
       "      <td>Canada</td>\n",
       "      <td>200</td>\n",
       "      <td>1538352180000</td>\n",
       "      <td>\"Mozilla/5.0 (Windows NT 6.1; WOW64) AppleWebK...</td>\n",
       "      <td>9</td>\n",
       "    </tr>\n",
       "    <tr>\n",
       "      <th>2</th>\n",
       "      <td>Adam Lambert</td>\n",
       "      <td>Logged In</td>\n",
       "      <td>Colin</td>\n",
       "      <td>M</td>\n",
       "      <td>51</td>\n",
       "      <td>Freeman</td>\n",
       "      <td>282.82730</td>\n",
       "      <td>paid</td>\n",
       "      <td>Bakersfield, CA</td>\n",
       "      <td>PUT</td>\n",
       "      <td>NextSong</td>\n",
       "      <td>1.538173e+12</td>\n",
       "      <td>29</td>\n",
       "      <td>Time For Miracles</td>\n",
       "      <td>200</td>\n",
       "      <td>1538352394000</td>\n",
       "      <td>Mozilla/5.0 (Windows NT 6.1; WOW64; rv:31.0) G...</td>\n",
       "      <td>30</td>\n",
       "    </tr>\n",
       "    <tr>\n",
       "      <th>3</th>\n",
       "      <td>Enigma</td>\n",
       "      <td>Logged In</td>\n",
       "      <td>Micah</td>\n",
       "      <td>M</td>\n",
       "      <td>80</td>\n",
       "      <td>Long</td>\n",
       "      <td>262.71302</td>\n",
       "      <td>free</td>\n",
       "      <td>Boston-Cambridge-Newton, MA-NH</td>\n",
       "      <td>PUT</td>\n",
       "      <td>NextSong</td>\n",
       "      <td>1.538332e+12</td>\n",
       "      <td>8</td>\n",
       "      <td>Knocking On Forbidden Doors</td>\n",
       "      <td>200</td>\n",
       "      <td>1538352416000</td>\n",
       "      <td>\"Mozilla/5.0 (Windows NT 6.1; WOW64) AppleWebK...</td>\n",
       "      <td>9</td>\n",
       "    </tr>\n",
       "    <tr>\n",
       "      <th>4</th>\n",
       "      <td>Daft Punk</td>\n",
       "      <td>Logged In</td>\n",
       "      <td>Colin</td>\n",
       "      <td>M</td>\n",
       "      <td>52</td>\n",
       "      <td>Freeman</td>\n",
       "      <td>223.60771</td>\n",
       "      <td>paid</td>\n",
       "      <td>Bakersfield, CA</td>\n",
       "      <td>PUT</td>\n",
       "      <td>NextSong</td>\n",
       "      <td>1.538173e+12</td>\n",
       "      <td>29</td>\n",
       "      <td>Harder Better Faster Stronger</td>\n",
       "      <td>200</td>\n",
       "      <td>1538352676000</td>\n",
       "      <td>Mozilla/5.0 (Windows NT 6.1; WOW64; rv:31.0) G...</td>\n",
       "      <td>30</td>\n",
       "    </tr>\n",
       "  </tbody>\n",
       "</table>\n",
       "</div>"
      ],
      "text/plain": [
       "             artist       auth firstName gender  itemInSession lastName  \\\n",
       "0    Martha Tilston  Logged In     Colin      M             50  Freeman   \n",
       "1  Five Iron Frenzy  Logged In     Micah      M             79     Long   \n",
       "2      Adam Lambert  Logged In     Colin      M             51  Freeman   \n",
       "3            Enigma  Logged In     Micah      M             80     Long   \n",
       "4         Daft Punk  Logged In     Colin      M             52  Freeman   \n",
       "\n",
       "      length level                        location method      page  \\\n",
       "0  277.89016  paid                 Bakersfield, CA    PUT  NextSong   \n",
       "1  236.09424  free  Boston-Cambridge-Newton, MA-NH    PUT  NextSong   \n",
       "2  282.82730  paid                 Bakersfield, CA    PUT  NextSong   \n",
       "3  262.71302  free  Boston-Cambridge-Newton, MA-NH    PUT  NextSong   \n",
       "4  223.60771  paid                 Bakersfield, CA    PUT  NextSong   \n",
       "\n",
       "   registration  sessionId                           song  status  \\\n",
       "0  1.538173e+12         29                      Rockpools     200   \n",
       "1  1.538332e+12          8                         Canada     200   \n",
       "2  1.538173e+12         29              Time For Miracles     200   \n",
       "3  1.538332e+12          8    Knocking On Forbidden Doors     200   \n",
       "4  1.538173e+12         29  Harder Better Faster Stronger     200   \n",
       "\n",
       "              ts                                          userAgent userId  \n",
       "0  1538352117000  Mozilla/5.0 (Windows NT 6.1; WOW64; rv:31.0) G...     30  \n",
       "1  1538352180000  \"Mozilla/5.0 (Windows NT 6.1; WOW64) AppleWebK...      9  \n",
       "2  1538352394000  Mozilla/5.0 (Windows NT 6.1; WOW64; rv:31.0) G...     30  \n",
       "3  1538352416000  \"Mozilla/5.0 (Windows NT 6.1; WOW64) AppleWebK...      9  \n",
       "4  1538352676000  Mozilla/5.0 (Windows NT 6.1; WOW64; rv:31.0) G...     30  "
      ]
     },
     "execution_count": 81,
     "metadata": {},
     "output_type": "execute_result"
    }
   ],
   "source": [
    "test=df.toPandas()\n",
    "test.head()"
   ]
  },
  {
   "cell_type": "markdown",
   "metadata": {},
   "source": [
    "We will check for null values and we will remove them so we can prepare our data for analysis"
   ]
  },
  {
   "cell_type": "code",
   "execution_count": 82,
   "metadata": {
    "scrolled": true
   },
   "outputs": [
    {
     "data": {
      "text/plain": [
       "{'artist': 58392,\n",
       " 'auth': 0,\n",
       " 'firstName': 8346,\n",
       " 'gender': 8346,\n",
       " 'itemInSession': 0,\n",
       " 'lastName': 8346,\n",
       " 'length': 58392,\n",
       " 'level': 0,\n",
       " 'location': 8346,\n",
       " 'method': 0,\n",
       " 'page': 0,\n",
       " 'registration': 8346,\n",
       " 'sessionId': 0,\n",
       " 'song': 58392,\n",
       " 'status': 0,\n",
       " 'ts': 0,\n",
       " 'userAgent': 8346,\n",
       " 'userId': 0}"
      ]
     },
     "execution_count": 82,
     "metadata": {},
     "output_type": "execute_result"
    }
   ],
   "source": [
    "Dict_Null = {col:df.filter(df[col].isNull()).count() for col in df.columns}\n",
    "Dict_Null"
   ]
  },
  {
   "cell_type": "code",
   "execution_count": 83,
   "metadata": {},
   "outputs": [
    {
     "data": {
      "text/plain": [
       "8346"
      ]
     },
     "execution_count": 83,
     "metadata": {},
     "output_type": "execute_result"
    }
   ],
   "source": [
    "df.filter(df['userId']=='').count()"
   ]
  },
  {
   "cell_type": "code",
   "execution_count": 84,
   "metadata": {},
   "outputs": [
    {
     "data": {
      "text/plain": [
       "0"
      ]
     },
     "execution_count": 84,
     "metadata": {},
     "output_type": "execute_result"
    }
   ],
   "source": [
    "df.filter(df['sessionId']=='').count()"
   ]
  },
  {
   "cell_type": "code",
   "execution_count": 85,
   "metadata": {},
   "outputs": [],
   "source": [
    "df_clean=df.where(df['userId'] != '')"
   ]
  },
  {
   "cell_type": "code",
   "execution_count": 86,
   "metadata": {},
   "outputs": [
    {
     "data": {
      "text/plain": [
       "0"
      ]
     },
     "execution_count": 86,
     "metadata": {},
     "output_type": "execute_result"
    }
   ],
   "source": [
    "df_clean.filter(df['userId']=='').count()"
   ]
  },
  {
   "cell_type": "code",
   "execution_count": 87,
   "metadata": {},
   "outputs": [
    {
     "data": {
      "text/plain": [
       "{'artist': 50046,\n",
       " 'auth': 0,\n",
       " 'firstName': 0,\n",
       " 'gender': 0,\n",
       " 'itemInSession': 0,\n",
       " 'lastName': 0,\n",
       " 'length': 50046,\n",
       " 'level': 0,\n",
       " 'location': 0,\n",
       " 'method': 0,\n",
       " 'page': 0,\n",
       " 'registration': 0,\n",
       " 'sessionId': 0,\n",
       " 'song': 50046,\n",
       " 'status': 0,\n",
       " 'ts': 0,\n",
       " 'userAgent': 0,\n",
       " 'userId': 0}"
      ]
     },
     "execution_count": 87,
     "metadata": {},
     "output_type": "execute_result"
    }
   ],
   "source": [
    "Dict_Null = {col:df_clean.filter(df_clean[col].isNull()).count() for col in df_clean.columns}\n",
    "Dict_Null"
   ]
  },
  {
   "cell_type": "code",
   "execution_count": 88,
   "metadata": {},
   "outputs": [
    {
     "data": {
      "text/html": [
       "<div>\n",
       "<style scoped>\n",
       "    .dataframe tbody tr th:only-of-type {\n",
       "        vertical-align: middle;\n",
       "    }\n",
       "\n",
       "    .dataframe tbody tr th {\n",
       "        vertical-align: top;\n",
       "    }\n",
       "\n",
       "    .dataframe thead th {\n",
       "        text-align: right;\n",
       "    }\n",
       "</style>\n",
       "<table border=\"1\" class=\"dataframe\">\n",
       "  <thead>\n",
       "    <tr style=\"text-align: right;\">\n",
       "      <th></th>\n",
       "      <th>artist</th>\n",
       "      <th>auth</th>\n",
       "      <th>firstName</th>\n",
       "      <th>gender</th>\n",
       "      <th>itemInSession</th>\n",
       "      <th>lastName</th>\n",
       "      <th>length</th>\n",
       "      <th>level</th>\n",
       "      <th>location</th>\n",
       "      <th>method</th>\n",
       "      <th>page</th>\n",
       "      <th>registration</th>\n",
       "      <th>sessionId</th>\n",
       "      <th>song</th>\n",
       "      <th>status</th>\n",
       "      <th>ts</th>\n",
       "      <th>userAgent</th>\n",
       "      <th>userId</th>\n",
       "    </tr>\n",
       "  </thead>\n",
       "  <tbody>\n",
       "    <tr>\n",
       "      <th>0</th>\n",
       "      <td>None</td>\n",
       "      <td>Logged In</td>\n",
       "      <td>Colin</td>\n",
       "      <td>M</td>\n",
       "      <td>54</td>\n",
       "      <td>Freeman</td>\n",
       "      <td>None</td>\n",
       "      <td>paid</td>\n",
       "      <td>Bakersfield, CA</td>\n",
       "      <td>PUT</td>\n",
       "      <td>Add to Playlist</td>\n",
       "      <td>1538173362000</td>\n",
       "      <td>29</td>\n",
       "      <td>None</td>\n",
       "      <td>200</td>\n",
       "      <td>1538352905000</td>\n",
       "      <td>Mozilla/5.0 (Windows NT 6.1; WOW64; rv:31.0) G...</td>\n",
       "      <td>30</td>\n",
       "    </tr>\n",
       "    <tr>\n",
       "      <th>1</th>\n",
       "      <td>None</td>\n",
       "      <td>Logged In</td>\n",
       "      <td>Micah</td>\n",
       "      <td>M</td>\n",
       "      <td>84</td>\n",
       "      <td>Long</td>\n",
       "      <td>None</td>\n",
       "      <td>free</td>\n",
       "      <td>Boston-Cambridge-Newton, MA-NH</td>\n",
       "      <td>GET</td>\n",
       "      <td>Roll Advert</td>\n",
       "      <td>1538331630000</td>\n",
       "      <td>8</td>\n",
       "      <td>None</td>\n",
       "      <td>200</td>\n",
       "      <td>1538353150000</td>\n",
       "      <td>\"Mozilla/5.0 (Windows NT 6.1; WOW64) AppleWebK...</td>\n",
       "      <td>9</td>\n",
       "    </tr>\n",
       "    <tr>\n",
       "      <th>2</th>\n",
       "      <td>None</td>\n",
       "      <td>Logged In</td>\n",
       "      <td>Micah</td>\n",
       "      <td>M</td>\n",
       "      <td>86</td>\n",
       "      <td>Long</td>\n",
       "      <td>None</td>\n",
       "      <td>free</td>\n",
       "      <td>Boston-Cambridge-Newton, MA-NH</td>\n",
       "      <td>PUT</td>\n",
       "      <td>Thumbs Up</td>\n",
       "      <td>1538331630000</td>\n",
       "      <td>8</td>\n",
       "      <td>None</td>\n",
       "      <td>307</td>\n",
       "      <td>1538353376000</td>\n",
       "      <td>\"Mozilla/5.0 (Windows NT 6.1; WOW64) AppleWebK...</td>\n",
       "      <td>9</td>\n",
       "    </tr>\n",
       "    <tr>\n",
       "      <th>3</th>\n",
       "      <td>None</td>\n",
       "      <td>Logged In</td>\n",
       "      <td>Alexi</td>\n",
       "      <td>F</td>\n",
       "      <td>4</td>\n",
       "      <td>Warren</td>\n",
       "      <td>None</td>\n",
       "      <td>paid</td>\n",
       "      <td>Spokane-Spokane Valley, WA</td>\n",
       "      <td>GET</td>\n",
       "      <td>Downgrade</td>\n",
       "      <td>1532482662000</td>\n",
       "      <td>53</td>\n",
       "      <td>None</td>\n",
       "      <td>200</td>\n",
       "      <td>1538354749000</td>\n",
       "      <td>Mozilla/5.0 (Windows NT 6.1; WOW64; rv:32.0) G...</td>\n",
       "      <td>54</td>\n",
       "    </tr>\n",
       "    <tr>\n",
       "      <th>4</th>\n",
       "      <td>None</td>\n",
       "      <td>Logged In</td>\n",
       "      <td>Alexi</td>\n",
       "      <td>F</td>\n",
       "      <td>7</td>\n",
       "      <td>Warren</td>\n",
       "      <td>None</td>\n",
       "      <td>paid</td>\n",
       "      <td>Spokane-Spokane Valley, WA</td>\n",
       "      <td>PUT</td>\n",
       "      <td>Thumbs Up</td>\n",
       "      <td>1532482662000</td>\n",
       "      <td>53</td>\n",
       "      <td>None</td>\n",
       "      <td>307</td>\n",
       "      <td>1538355255000</td>\n",
       "      <td>Mozilla/5.0 (Windows NT 6.1; WOW64; rv:32.0) G...</td>\n",
       "      <td>54</td>\n",
       "    </tr>\n",
       "  </tbody>\n",
       "</table>\n",
       "</div>"
      ],
      "text/plain": [
       "  artist       auth firstName gender  itemInSession lastName length level  \\\n",
       "0   None  Logged In     Colin      M             54  Freeman   None  paid   \n",
       "1   None  Logged In     Micah      M             84     Long   None  free   \n",
       "2   None  Logged In     Micah      M             86     Long   None  free   \n",
       "3   None  Logged In     Alexi      F              4   Warren   None  paid   \n",
       "4   None  Logged In     Alexi      F              7   Warren   None  paid   \n",
       "\n",
       "                         location method             page   registration  \\\n",
       "0                 Bakersfield, CA    PUT  Add to Playlist  1538173362000   \n",
       "1  Boston-Cambridge-Newton, MA-NH    GET      Roll Advert  1538331630000   \n",
       "2  Boston-Cambridge-Newton, MA-NH    PUT        Thumbs Up  1538331630000   \n",
       "3      Spokane-Spokane Valley, WA    GET        Downgrade  1532482662000   \n",
       "4      Spokane-Spokane Valley, WA    PUT        Thumbs Up  1532482662000   \n",
       "\n",
       "   sessionId  song  status             ts  \\\n",
       "0         29  None     200  1538352905000   \n",
       "1          8  None     200  1538353150000   \n",
       "2          8  None     307  1538353376000   \n",
       "3         53  None     200  1538354749000   \n",
       "4         53  None     307  1538355255000   \n",
       "\n",
       "                                           userAgent userId  \n",
       "0  Mozilla/5.0 (Windows NT 6.1; WOW64; rv:31.0) G...     30  \n",
       "1  \"Mozilla/5.0 (Windows NT 6.1; WOW64) AppleWebK...      9  \n",
       "2  \"Mozilla/5.0 (Windows NT 6.1; WOW64) AppleWebK...      9  \n",
       "3  Mozilla/5.0 (Windows NT 6.1; WOW64; rv:32.0) G...     54  \n",
       "4  Mozilla/5.0 (Windows NT 6.1; WOW64; rv:32.0) G...     54  "
      ]
     },
     "execution_count": 88,
     "metadata": {},
     "output_type": "execute_result"
    }
   ],
   "source": [
    "test=df_clean.where(df['artist'].isNull())\n",
    "test=test.toPandas()\n",
    "test.head()"
   ]
  },
  {
   "cell_type": "code",
   "execution_count": 89,
   "metadata": {},
   "outputs": [
    {
     "data": {
      "text/plain": [
       "artist               0\n",
       "auth                 2\n",
       "firstName          189\n",
       "gender               2\n",
       "itemInSession      859\n",
       "lastName           173\n",
       "length               0\n",
       "level                2\n",
       "location           114\n",
       "method               2\n",
       "page                18\n",
       "registration       224\n",
       "sessionId         2292\n",
       "song                 0\n",
       "status               3\n",
       "ts               49696\n",
       "userAgent           56\n",
       "userId             224\n",
       "dtype: int64"
      ]
     },
     "execution_count": 89,
     "metadata": {},
     "output_type": "execute_result"
    }
   ],
   "source": [
    "test.nunique()"
   ]
  },
  {
   "cell_type": "code",
   "execution_count": 90,
   "metadata": {},
   "outputs": [
    {
     "data": {
      "text/plain": [
       "[Row(artist='Martha Tilston', auth='Logged In', firstName='Colin', gender='M', itemInSession=50, lastName='Freeman', length=277.89016, level='paid', location='Bakersfield, CA', method='PUT', page='NextSong', registration=1538173362000, sessionId=29, song='Rockpools', status=200, ts=1538352117000, userAgent='Mozilla/5.0 (Windows NT 6.1; WOW64; rv:31.0) Gecko/20100101 Firefox/31.0', userId='30', tsDate=datetime.datetime(2018, 10, 1, 0, 1, 57), date=datetime.date(2018, 10, 1))]"
      ]
     },
     "execution_count": 90,
     "metadata": {},
     "output_type": "execute_result"
    }
   ],
   "source": [
    "# Convert the 'ts' column from milliseconds to seconds and cast to a timestamp\n",
    "df_clean = df_clean.withColumn('tsDate', (col('ts') / 1000.0).cast(TimestampType()))\n",
    "\n",
    "# Extract the date from the timestamp and create a new 'date' column\n",
    "df_clean = df_clean.withColumn('date', to_date('tsDate'))\n",
    "\n",
    "# Print out the first row of the cleaned dataframe for inspection\n",
    "df_clean.take(1)"
   ]
  },
  {
   "cell_type": "code",
   "execution_count": 91,
   "metadata": {},
   "outputs": [],
   "source": [
    "# Split the 'location' column by ',' and create a new 'city' column with the first element\n",
    "df_clean = df_clean.withColumn('city', split(df_clean['location'], ',')[0])\n",
    "\n",
    "# Split the 'location' column by ',' and create a new 'state' column with the second element\n",
    "df_clean = df_clean.withColumn('state', split(df_clean['location'], ',')[1])\n",
    "\n",
    "# Drop the original 'location' column from the dataframe\n",
    "df_clean = df_clean.drop('location')\n"
   ]
  },
  {
   "cell_type": "code",
   "execution_count": 92,
   "metadata": {},
   "outputs": [
    {
     "data": {
      "text/plain": [
       "Row(artist='Martha Tilston', auth='Logged In', firstName='Colin', gender='M', itemInSession=50, lastName='Freeman', length=277.89016, level='paid', method='PUT', page='NextSong', registration=1538173362000, sessionId=29, song='Rockpools', status=200, ts=1538352117000, userAgent='Mozilla/5.0 (Windows NT 6.1; WOW64; rv:31.0) Gecko/20100101 Firefox/31.0', userId='30', tsDate=datetime.datetime(2018, 10, 1, 0, 1, 57), date=datetime.date(2018, 10, 1), city='Bakersfield', state=' CA')"
      ]
     },
     "execution_count": 92,
     "metadata": {},
     "output_type": "execute_result"
    }
   ],
   "source": [
    "df_clean.head()\n"
   ]
  },
  {
   "cell_type": "markdown",
   "metadata": {},
   "source": [
    "# Exploratory Data Analysis\n",
    "When you're working with the full dataset, perform EDA by loading a small subset of the data and doing basic manipulations within Spark. In this workspace, you are already provided a small subset of data you can explore.\n",
    "\n",
    "### Define Churn\n",
    "\n",
    "Once you've done some preliminary analysis, create a column `Churn` to use as the label for your model. I suggest using the `Cancellation Confirmation` events to define your churn, which happen for both paid and free users. As a bonus task, you can also look into the `Downgrade` events.\n",
    "\n",
    "### Explore Data\n",
    "Once you've defined churn, perform some exploratory data analysis to observe the behavior for users who stayed vs users who churned. You can start by exploring aggregates on these two groups of users, observing how much of a specific action they experienced per a certain time unit or number of songs played."
   ]
  },
  {
   "cell_type": "code",
   "execution_count": 93,
   "metadata": {},
   "outputs": [
    {
     "data": {
      "text/plain": [
       "Text(0.5,1,\"Count of 'page' logs\")"
      ]
     },
     "execution_count": 93,
     "metadata": {},
     "output_type": "execute_result"
    },
    {
     "data": {
      "image/png": "[encoded data removed]",
      "text/plain": [
       "<matplotlib.figure.Figure at 0x7fce336dc9b0>"
      ]
     },
     "metadata": {
      "needs_background": "light"
     },
     "output_type": "display_data"
    }
   ],
   "source": [
    "# Set the figure size of the plot to 12 inches wide by 4 inches tall\n",
    "plt.figure(figsize = [12, 4])\n",
    "\n",
    "# Select the 'page' column from the cleaned dataframe and convert to a Pandas dataframe\n",
    "df = df_clean.select('page').toPandas()\n",
    "\n",
    "# Create a count plot of the 'page' column using Seaborn's countplot() function\n",
    "# Order the bars by the count of each category in descending order\n",
    "sb.countplot(data = df, x = 'page', order = df['page'].value_counts().index)\n",
    "\n",
    "# Rotate the x-axis labels by 90 degrees for better visibility\n",
    "plt.xticks(rotation = 90)\n",
    "\n",
    "# Set the title of the plot\n",
    "ax = plt.gca()\n",
    "ax.set_title(\"Count of 'page' logs\")\n"
   ]
  },
  {
   "cell_type": "code",
   "execution_count": 94,
   "metadata": {},
   "outputs": [
    {
     "data": {
      "image/png": "[encoded data removed]",
      "text/plain": [
       "<matplotlib.figure.Figure at 0x7fce35176d30>"
      ]
     },
     "metadata": {
      "needs_background": "light"
     },
     "output_type": "display_data"
    }
   ],
   "source": [
    "# Select the 'userId' and 'state' columns from the cleaned dataframe, drop duplicates, and convert to a Pandas dataframe\n",
    "df = df_clean.select('userId', 'state').dropDuplicates().toPandas()\n",
    "\n",
    "# Set the figure size of the plot to 15 inches wide by 5 inches tall\n",
    "plt.figure(figsize = [15, 5])\n",
    "\n",
    "# Order the x-axis categories by the count of each state in descending order\n",
    "data_order = df['state'].value_counts().index\n",
    "\n",
    "# Create a count plot of the 'state' column using Seaborn's countplot() function\n",
    "# Order the bars by the count of each state in descending order\n",
    "sb.countplot(data = df, x = 'state', order = data_order).set_title('Users per state')\n",
    "\n",
    "# Rotate the x-axis labels by 90 degrees for better visibility\n",
    "plt.xticks(rotation = 90)\n",
    "\n",
    "# Display the plot\n",
    "plt.show()\n"
   ]
  },
  {
   "cell_type": "code",
   "execution_count": 95,
   "metadata": {},
   "outputs": [
    {
     "data": {
      "image/png": "[encoded data removed]",
      "text/plain": [
       "<matplotlib.figure.Figure at 0x7fce3fef4898>"
      ]
     },
     "metadata": {
      "needs_background": "light"
     },
     "output_type": "display_data"
    }
   ],
   "source": [
    "# Group the cleaned dataframe by 'userId', count the distinct 'ts' values for each user, and alias the resulting column as 'num_logs'\n",
    "logs_per_user = df_clean.groupBy('userId').agg(countDistinct('ts').alias('num_logs'))\n",
    "\n",
    "# Convert the resulting PySpark dataframe to a Pandas dataframe\n",
    "logs_per_user_df = logs_per_user.toPandas()\n",
    "\n",
    "# Create a histogram of the 'num_logs' column using Matplotlib's `hist()` function\n",
    "# The `bins` parameter specifies the number of bins to use in the histogram\n",
    "plt.hist(logs_per_user_df['num_logs'], bins=20)\n",
    "\n",
    "# Set the title, x-axis label, and y-axis label of the plot\n",
    "plt.title('Number of Logs per User')\n",
    "plt.xlabel('Number of Logs')\n",
    "plt.ylabel('Number of Users')\n",
    "\n",
    "# Display the plot\n",
    "plt.show()\n"
   ]
  },
  {
   "cell_type": "code",
   "execution_count": 96,
   "metadata": {},
   "outputs": [
    {
     "data": {
      "text/plain": [
       "52"
      ]
     },
     "execution_count": 96,
     "metadata": {},
     "output_type": "execute_result"
    }
   ],
   "source": [
    "cancelled = df_clean.where(df_clean.page == 'Cancellation Confirmation').select('userId').dropDuplicates()\n",
    "cancelled.count()"
   ]
  },
  {
   "cell_type": "code",
   "execution_count": 97,
   "metadata": {},
   "outputs": [
    {
     "data": {
      "text/plain": [
       "49"
      ]
     },
     "execution_count": 97,
     "metadata": {},
     "output_type": "execute_result"
    }
   ],
   "source": [
    "downgraded = df_clean.where(df_clean.page == 'Submit Downgrade').select('userId').dropDuplicates()\n",
    "downgraded.count()"
   ]
  },
  {
   "cell_type": "code",
   "execution_count": 98,
   "metadata": {},
   "outputs": [
    {
     "data": {
      "text/plain": [
       "9"
      ]
     },
     "execution_count": 98,
     "metadata": {},
     "output_type": "execute_result"
    }
   ],
   "source": [
    "downgraded.intersect(cancelled).count()\n"
   ]
  },
  {
   "cell_type": "code",
   "execution_count": 99,
   "metadata": {},
   "outputs": [],
   "source": [
    "df_user_logs_cancelled = df_clean.where(df_clean.userId.isin([row.userId for row in cancelled.collect()])).groupby('userId').count().toPandas()\n",
    "\n",
    "df_user_logs_downgraded = df_clean.where(df_clean.userId.isin([row.userId for row in downgraded.collect()])).groupby('userId').count().toPandas()"
   ]
  },
  {
   "cell_type": "code",
   "execution_count": 100,
   "metadata": {},
   "outputs": [
    {
     "data": {
      "image/png": "[encoded data removed]",
      "text/plain": [
       "<matplotlib.figure.Figure at 0x7fce4ea14dd8>"
      ]
     },
     "metadata": {
      "needs_background": "light"
     },
     "output_type": "display_data"
    }
   ],
   "source": [
    "# Create a new Matplotlib figure with the specified size\n",
    "fig = plt.figure(figsize = [12, 4])\n",
    "\n",
    "# Create a new GridSpec with 1 row and 2 columns\n",
    "spec = gridspec.GridSpec(ncols=2, nrows=1, width_ratios=[5, 1])\n",
    "\n",
    "# Adjust the spacing between subplots\n",
    "plt.subplots_adjust(hspace=0.3)\n",
    "\n",
    "# Create the first subplot in the first column of the GridSpec\n",
    "ax0 = fig.add_subplot(spec[0])\n",
    "\n",
    "# Create a histogram of the 'count' column from the 'df_user_logs_cancelled' dataframe with 15 bins\n",
    "ax0.hist(df_user_logs_cancelled['count'], bins=15)\n",
    "\n",
    "# Set the title of the plot\n",
    "ax0.set_title('user_logs_cancelled')\n",
    "\n",
    "# Set the x-axis and y-axis labels of the plot\n",
    "plt.xlabel('count')\n",
    "plt.ylabel('frequency')\n",
    "\n",
    "# Display the plot\n",
    "plt.show()"
   ]
  },
  {
   "cell_type": "code",
   "execution_count": 101,
   "metadata": {},
   "outputs": [
    {
     "data": {
      "image/png": "[encoded data removed]",
      "text/plain": [
       "<matplotlib.figure.Figure at 0x7fce4cfc91d0>"
      ]
     },
     "metadata": {
      "needs_background": "light"
     },
     "output_type": "display_data"
    }
   ],
   "source": [
    "# Create a new Matplotlib figure with the specified size\n",
    "fig = plt.figure(figsize = [12, 4])\n",
    "\n",
    "# Create a new GridSpec with 1 row and 2 columns\n",
    "spec = gridspec.GridSpec(ncols=2, nrows=1, width_ratios=[5, 1])\n",
    "\n",
    "# Adjust the spacing between subplots\n",
    "plt.subplots_adjust(hspace=0.3)\n",
    "\n",
    "# Create the first subplot in the first column of the GridSpec\n",
    "ax0 = fig.add_subplot(spec[0])\n",
    "\n",
    "# Create a histogram of the 'count' column from the 'df_user_logs_downgraded' dataframe with 15 bins\n",
    "ax0.hist(df_user_logs_downgraded['count'], bins=15)\n",
    "\n",
    "# Set the title of the plot\n",
    "ax0.set_title('df_user_logs_downgraded')\n",
    "\n",
    "# Set the x-axis and y-axis labels of the plot\n",
    "plt.xlabel('count')\n",
    "plt.ylabel('frequency')\n",
    "\n",
    "# Display the plot\n",
    "plt.show()\n"
   ]
  },
  {
   "cell_type": "code",
   "execution_count": 102,
   "metadata": {},
   "outputs": [
    {
     "name": "stdout",
     "output_type": "stream",
     "text": [
      "Average number of songs listened per session for users who triggered \"Cancellation Confirmation\": 8.0\n",
      "Average number of songs listened per session for users who triggered \"Submit Downgrade\": 75.62162162162163\n"
     ]
    }
   ],
   "source": [
    "# Average number of songs listened per session\n",
    "songs_per_session = df_clean.groupBy('userId', 'sessionId').agg(countDistinct('song').alias('num_songs'))\n",
    "avg_songs_per_session = songs_per_session.groupBy('userId').agg(avg('num_songs').alias('avg_songs_per_session'))\n",
    "\n",
    "# Filter for users who triggered 'Cancellation Confirmation' and 'Submit Downgrade' pages\n",
    "cancel_users = df_clean.filter(df_clean.page == 'Cancellation Confirmation').select('userId').distinct().rdd.flatMap(lambda x: x).collect()\n",
    "downgrade_users = df_clean.filter(df_clean.page == 'Submit Downgrade').select('userId').distinct().rdd.flatMap(lambda x: x).collect()\n",
    "\n",
    "cancel_avg_songs = avg_songs_per_session.filter(avg_songs_per_session.userId.isin(cancel_users))\n",
    "downgrade_avg_songs = avg_songs_per_session.filter(avg_songs_per_session.userId.isin(downgrade_users))\n",
    "\n",
    "# Print results\n",
    "print('Average number of songs listened per session for users who triggered \"Cancellation Confirmation\":', cancel_avg_songs.select('avg_songs_per_session').collect()[0][0])\n",
    "print('Average number of songs listened per session for users who triggered \"Submit Downgrade\":', downgrade_avg_songs.select('avg_songs_per_session').collect()[0][0])\n"
   ]
  },
  {
   "cell_type": "markdown",
   "metadata": {},
   "source": [
    "As we can see from the above results the users how downgraded and canceled do not have similar behavior so we\n",
    "cannot put them in the same category \"churn\""
   ]
  },
  {
   "cell_type": "code",
   "execution_count": 103,
   "metadata": {},
   "outputs": [
    {
     "name": "stdout",
     "output_type": "stream",
     "text": [
      "+-------+-------------------+\n",
      "|summary|              churn|\n",
      "+-------+-------------------+\n",
      "|  count|             278154|\n",
      "|   mean|0.16129194618808287|\n",
      "| stddev|0.36780068056308973|\n",
      "|    min|                  0|\n",
      "|    max|                  1|\n",
      "+-------+-------------------+\n",
      "\n"
     ]
    }
   ],
   "source": [
    "# Get a list of userIds for users who cancelled their service\n",
    "cancelled_uids = [row.userId for row in cancelled.collect()]\n",
    "\n",
    "# Define a UDF that returns 1 if a userId is in the list of cancelled userIds, and 0 otherwise\n",
    "set_churn = udf(lambda x: 1 if x in cancelled_uids else 0, IntegerType())\n",
    "\n",
    "# Add a new column 'churn' to the 'df_clean' dataframe, which contains the result of applying the 'set_churn' UDF to the 'userId' column\n",
    "df_clean = df_clean.withColumn('churn', set_churn('userId'))\n",
    "\n",
    "# Compute and display summary statistics for the 'churn' column using the 'describe()' method\n",
    "df_clean.describe('churn').show()\n"
   ]
  },
  {
   "cell_type": "code",
   "execution_count": 104,
   "metadata": {},
   "outputs": [
    {
     "data": {
      "text/plain": [
       "Row(artist='Martha Tilston', auth='Logged In', firstName='Colin', gender='M', itemInSession=50, lastName='Freeman', length=277.89016, level='paid', method='PUT', page='NextSong', registration=1538173362000, sessionId=29, song='Rockpools', status=200, ts=1538352117000, userAgent='Mozilla/5.0 (Windows NT 6.1; WOW64; rv:31.0) Gecko/20100101 Firefox/31.0', userId='30', tsDate=datetime.datetime(2018, 10, 1, 0, 1, 57), date=datetime.date(2018, 10, 1), city='Bakersfield', state=' CA', churn=0)"
      ]
     },
     "execution_count": 104,
     "metadata": {},
     "output_type": "execute_result"
    }
   ],
   "source": [
    "df_clean.head()"
   ]
  },
  {
   "cell_type": "code",
   "execution_count": 105,
   "metadata": {},
   "outputs": [
    {
     "name": "stdout",
     "output_type": "stream",
     "text": [
      "+-----+---------+-----+\n",
      "|churn|     auth|count|\n",
      "+-----+---------+-----+\n",
      "|    0|Logged In|  173|\n",
      "|    1|Logged In|   52|\n",
      "+-----+---------+-----+\n",
      "\n"
     ]
    }
   ],
   "source": [
    "df_clean.dropDuplicates([\"userId\"]).groupby([\"churn\", \"auth\"]).count().sort(\"churn\").show()"
   ]
  },
  {
   "cell_type": "code",
   "execution_count": 106,
   "metadata": {},
   "outputs": [
    {
     "data": {
      "image/png": "[encoded data removed]",
      "text/plain": [
       "<matplotlib.figure.Figure at 0x7fce4519a5f8>"
      ]
     },
     "metadata": {
      "needs_background": "light"
     },
     "output_type": "display_data"
    }
   ],
   "source": [
    "test = df_clean.dropDuplicates([\"userId\"]).groupby([\"churn\", \"auth\"]).count().sort(\"churn\").toPandas()\n",
    "sb.barplot(x=\"auth\",y=\"count\" ,hue=\"churn\", data=test);"
   ]
  },
  {
   "cell_type": "code",
   "execution_count": 107,
   "metadata": {},
   "outputs": [
    {
     "name": "stdout",
     "output_type": "stream",
     "text": [
      "+-----+------+-----+\n",
      "|churn|gender|count|\n",
      "+-----+------+-----+\n",
      "|    0|     M|   89|\n",
      "|    0|     F|   84|\n",
      "|    1|     F|   20|\n",
      "|    1|     M|   32|\n",
      "+-----+------+-----+\n",
      "\n"
     ]
    }
   ],
   "source": [
    "df_clean.dropDuplicates([\"userId\"]).groupby([\"churn\", \"gender\"]).count().sort(\"churn\").show()"
   ]
  },
  {
   "cell_type": "code",
   "execution_count": 108,
   "metadata": {},
   "outputs": [
    {
     "data": {
      "image/png": "[encoded data removed]",
      "text/plain": [
       "<matplotlib.figure.Figure at 0x7fce146d4a90>"
      ]
     },
     "metadata": {
      "needs_background": "light"
     },
     "output_type": "display_data"
    }
   ],
   "source": [
    "test = df_clean.dropDuplicates([\"userId\"]).groupby([\"churn\", \"gender\"]).count().sort(\"churn\").toPandas()\n",
    "sb.barplot(x=\"gender\",y=\"count\" ,hue=\"churn\", data=test);"
   ]
  },
  {
   "cell_type": "code",
   "execution_count": 109,
   "metadata": {},
   "outputs": [
    {
     "name": "stdout",
     "output_type": "stream",
     "text": [
      "+-----+-----+-----+\n",
      "|churn|level|count|\n",
      "+-----+-----+-----+\n",
      "|    0| free|  133|\n",
      "|    0| paid|   40|\n",
      "|    1| paid|    8|\n",
      "|    1| free|   44|\n",
      "+-----+-----+-----+\n",
      "\n"
     ]
    }
   ],
   "source": [
    "df_clean.dropDuplicates([\"userId\"]).groupby([\"churn\", \"level\"]).count().sort(\"churn\").show()"
   ]
  },
  {
   "cell_type": "code",
   "execution_count": 110,
   "metadata": {},
   "outputs": [
    {
     "data": {
      "image/png": "[encoded data removed]",
      "text/plain": [
       "<matplotlib.figure.Figure at 0x7fce118fd978>"
      ]
     },
     "metadata": {
      "needs_background": "light"
     },
     "output_type": "display_data"
    }
   ],
   "source": [
    "test = df_clean.dropDuplicates([\"userId\"]).groupby([\"churn\", \"level\"]).count().sort(\"churn\").toPandas()\n",
    "sb.barplot(x=\"level\",y=\"count\" ,hue=\"churn\", data=test);"
   ]
  },
  {
   "cell_type": "code",
   "execution_count": 111,
   "metadata": {},
   "outputs": [
    {
     "name": "stdout",
     "output_type": "stream",
     "text": [
      "+-----+------+-----+\n",
      "|churn|method|count|\n",
      "+-----+------+-----+\n",
      "|    0|   GET|   88|\n",
      "|    0|   PUT|   85|\n",
      "|    1|   PUT|   25|\n",
      "|    1|   GET|   27|\n",
      "+-----+------+-----+\n",
      "\n"
     ]
    }
   ],
   "source": [
    "df_clean.dropDuplicates([\"userId\"]).groupby([\"churn\", \"method\"]).count().sort(\"churn\").show()"
   ]
  },
  {
   "cell_type": "code",
   "execution_count": 112,
   "metadata": {},
   "outputs": [
    {
     "data": {
      "image/png": "[encoded data removed]",
      "text/plain": [
       "<matplotlib.figure.Figure at 0x7fce17fa6048>"
      ]
     },
     "metadata": {
      "needs_background": "light"
     },
     "output_type": "display_data"
    }
   ],
   "source": [
    "test = df_clean.dropDuplicates([\"userId\"]).groupby([\"churn\", \"method\"]).count().sort(\"churn\").toPandas()\n",
    "sb.barplot(x=\"method\",y=\"count\" ,hue=\"churn\", data=test);"
   ]
  },
  {
   "cell_type": "code",
   "execution_count": 113,
   "metadata": {},
   "outputs": [
    {
     "name": "stdout",
     "output_type": "stream",
     "text": [
      "+-----+--------------------+------+\n",
      "|Churn|                page| count|\n",
      "+-----+--------------------+------+\n",
      "|    1|               About|    56|\n",
      "|    0|               About|   439|\n",
      "|    1|          Add Friend|   636|\n",
      "|    0|          Add Friend|  3641|\n",
      "|    1|     Add to Playlist|  1038|\n",
      "|    0|     Add to Playlist|  5488|\n",
      "|    1|              Cancel|    52|\n",
      "|    1|Cancellation Conf...|    52|\n",
      "|    0|           Downgrade|  1718|\n",
      "|    1|           Downgrade|   337|\n",
      "|    0|               Error|   220|\n",
      "|    1|               Error|    32|\n",
      "|    0|                Help|  1215|\n",
      "|    1|                Help|   239|\n",
      "|    0|                Home|  8410|\n",
      "|    1|                Home|  1672|\n",
      "|    1|              Logout|   553|\n",
      "|    0|              Logout|  2673|\n",
      "|    1|            NextSong| 36394|\n",
      "|    0|            NextSong|191714|\n",
      "+-----+--------------------+------+\n",
      "only showing top 20 rows\n",
      "\n"
     ]
    }
   ],
   "source": [
    "\n",
    "df_clean.select([\"Churn\", \"page\"]).groupby([\"Churn\", \"page\"]).count().sort(\"page\").show()"
   ]
  },
  {
   "cell_type": "code",
   "execution_count": 114,
   "metadata": {},
   "outputs": [
    {
     "data": {
      "text/html": [
       "<div>\n",
       "<style scoped>\n",
       "    .dataframe tbody tr th:only-of-type {\n",
       "        vertical-align: middle;\n",
       "    }\n",
       "\n",
       "    .dataframe tbody tr th {\n",
       "        vertical-align: top;\n",
       "    }\n",
       "\n",
       "    .dataframe thead th {\n",
       "        text-align: right;\n",
       "    }\n",
       "</style>\n",
       "<table border=\"1\" class=\"dataframe\">\n",
       "  <thead>\n",
       "    <tr style=\"text-align: right;\">\n",
       "      <th></th>\n",
       "      <th>page</th>\n",
       "      <th>Churn</th>\n",
       "      <th>count</th>\n",
       "    </tr>\n",
       "  </thead>\n",
       "  <tbody>\n",
       "    <tr>\n",
       "      <th>0</th>\n",
       "      <td>About</td>\n",
       "      <td>1</td>\n",
       "      <td>56</td>\n",
       "    </tr>\n",
       "    <tr>\n",
       "      <th>1</th>\n",
       "      <td>About</td>\n",
       "      <td>0</td>\n",
       "      <td>439</td>\n",
       "    </tr>\n",
       "    <tr>\n",
       "      <th>2</th>\n",
       "      <td>Add Friend</td>\n",
       "      <td>1</td>\n",
       "      <td>636</td>\n",
       "    </tr>\n",
       "    <tr>\n",
       "      <th>3</th>\n",
       "      <td>Add Friend</td>\n",
       "      <td>0</td>\n",
       "      <td>3641</td>\n",
       "    </tr>\n",
       "    <tr>\n",
       "      <th>4</th>\n",
       "      <td>Add to Playlist</td>\n",
       "      <td>1</td>\n",
       "      <td>1038</td>\n",
       "    </tr>\n",
       "  </tbody>\n",
       "</table>\n",
       "</div>"
      ],
      "text/plain": [
       "              page  Churn  count\n",
       "0            About      1     56\n",
       "1            About      0    439\n",
       "2       Add Friend      1    636\n",
       "3       Add Friend      0   3641\n",
       "4  Add to Playlist      1   1038"
      ]
     },
     "execution_count": 114,
     "metadata": {},
     "output_type": "execute_result"
    }
   ],
   "source": [
    "test = df_clean.select([\"page\",\"Churn\"]).groupby([ \"page\",\"Churn\"]).count().sort(\"page\").toPandas()\n",
    "test.head()"
   ]
  },
  {
   "cell_type": "code",
   "execution_count": 115,
   "metadata": {},
   "outputs": [
    {
     "data": {
      "image/png": "[encoded data removed]",
      "text/plain": [
       "<matplotlib.figure.Figure at 0x7fce17fa64a8>"
      ]
     },
     "metadata": {
      "needs_background": "light"
     },
     "output_type": "display_data"
    }
   ],
   "source": [
    "fig, ax = plt.subplots(figsize=(8,8))\n",
    "sb.barplot( x=\"count\",y=\"page\", hue=\"Churn\", data=test,ax=ax);"
   ]
  },
  {
   "cell_type": "code",
   "execution_count": 116,
   "metadata": {},
   "outputs": [],
   "source": [
    "test = df_clean.select([\"userId\",\"Churn\", \"artist\"]).groupby([\"userId\",\"Churn\", \"artist\"]).count().sort(\"artist\").toPandas()\n"
   ]
  },
  {
   "cell_type": "code",
   "execution_count": 117,
   "metadata": {},
   "outputs": [
    {
     "data": {
      "text/html": [
       "<div>\n",
       "<style scoped>\n",
       "    .dataframe tbody tr th:only-of-type {\n",
       "        vertical-align: middle;\n",
       "    }\n",
       "\n",
       "    .dataframe tbody tr th {\n",
       "        vertical-align: top;\n",
       "    }\n",
       "\n",
       "    .dataframe thead th {\n",
       "        text-align: right;\n",
       "    }\n",
       "</style>\n",
       "<table border=\"1\" class=\"dataframe\">\n",
       "  <thead>\n",
       "    <tr style=\"text-align: right;\">\n",
       "      <th></th>\n",
       "      <th>userId</th>\n",
       "      <th>Churn</th>\n",
       "      <th>count</th>\n",
       "    </tr>\n",
       "  </thead>\n",
       "  <tbody>\n",
       "    <tr>\n",
       "      <th>0</th>\n",
       "      <td>19</td>\n",
       "      <td>0</td>\n",
       "      <td>43</td>\n",
       "    </tr>\n",
       "    <tr>\n",
       "      <th>1</th>\n",
       "      <td>100005</td>\n",
       "      <td>1</td>\n",
       "      <td>62</td>\n",
       "    </tr>\n",
       "    <tr>\n",
       "      <th>2</th>\n",
       "      <td>200007</td>\n",
       "      <td>0</td>\n",
       "      <td>11</td>\n",
       "    </tr>\n",
       "    <tr>\n",
       "      <th>3</th>\n",
       "      <td>300007</td>\n",
       "      <td>1</td>\n",
       "      <td>32</td>\n",
       "    </tr>\n",
       "    <tr>\n",
       "      <th>4</th>\n",
       "      <td>50</td>\n",
       "      <td>0</td>\n",
       "      <td>148</td>\n",
       "    </tr>\n",
       "  </tbody>\n",
       "</table>\n",
       "</div>"
      ],
      "text/plain": [
       "   userId  Churn  count\n",
       "0      19      0     43\n",
       "1  100005      1     62\n",
       "2  200007      0     11\n",
       "3  300007      1     32\n",
       "4      50      0    148"
      ]
     },
     "execution_count": 117,
     "metadata": {},
     "output_type": "execute_result"
    }
   ],
   "source": [
    "test=test.drop(['artist'],1)\n",
    "test.head()"
   ]
  },
  {
   "cell_type": "code",
   "execution_count": 118,
   "metadata": {},
   "outputs": [],
   "source": [
    "df = df_clean.toPandas()"
   ]
  },
  {
   "cell_type": "code",
   "execution_count": 119,
   "metadata": {},
   "outputs": [
    {
     "data": {
      "text/html": [
       "<div>\n",
       "<style scoped>\n",
       "    .dataframe tbody tr th:only-of-type {\n",
       "        vertical-align: middle;\n",
       "    }\n",
       "\n",
       "    .dataframe tbody tr th {\n",
       "        vertical-align: top;\n",
       "    }\n",
       "\n",
       "    .dataframe thead th {\n",
       "        text-align: right;\n",
       "    }\n",
       "</style>\n",
       "<table border=\"1\" class=\"dataframe\">\n",
       "  <thead>\n",
       "    <tr style=\"text-align: right;\">\n",
       "      <th></th>\n",
       "      <th>artist</th>\n",
       "      <th>auth</th>\n",
       "      <th>firstName</th>\n",
       "      <th>gender</th>\n",
       "      <th>itemInSession</th>\n",
       "      <th>lastName</th>\n",
       "      <th>length</th>\n",
       "      <th>level</th>\n",
       "      <th>method</th>\n",
       "      <th>page</th>\n",
       "      <th>...</th>\n",
       "      <th>song</th>\n",
       "      <th>status</th>\n",
       "      <th>ts</th>\n",
       "      <th>userAgent</th>\n",
       "      <th>userId</th>\n",
       "      <th>tsDate</th>\n",
       "      <th>date</th>\n",
       "      <th>city</th>\n",
       "      <th>state</th>\n",
       "      <th>churn</th>\n",
       "    </tr>\n",
       "  </thead>\n",
       "  <tbody>\n",
       "    <tr>\n",
       "      <th>0</th>\n",
       "      <td>Martha Tilston</td>\n",
       "      <td>Logged In</td>\n",
       "      <td>Colin</td>\n",
       "      <td>M</td>\n",
       "      <td>50</td>\n",
       "      <td>Freeman</td>\n",
       "      <td>277.89016</td>\n",
       "      <td>paid</td>\n",
       "      <td>PUT</td>\n",
       "      <td>NextSong</td>\n",
       "      <td>...</td>\n",
       "      <td>Rockpools</td>\n",
       "      <td>200</td>\n",
       "      <td>1538352117000</td>\n",
       "      <td>Mozilla/5.0 (Windows NT 6.1; WOW64; rv:31.0) G...</td>\n",
       "      <td>30</td>\n",
       "      <td>2018-10-01 00:01:57</td>\n",
       "      <td>2018-10-01</td>\n",
       "      <td>Bakersfield</td>\n",
       "      <td>CA</td>\n",
       "      <td>0</td>\n",
       "    </tr>\n",
       "    <tr>\n",
       "      <th>1</th>\n",
       "      <td>Five Iron Frenzy</td>\n",
       "      <td>Logged In</td>\n",
       "      <td>Micah</td>\n",
       "      <td>M</td>\n",
       "      <td>79</td>\n",
       "      <td>Long</td>\n",
       "      <td>236.09424</td>\n",
       "      <td>free</td>\n",
       "      <td>PUT</td>\n",
       "      <td>NextSong</td>\n",
       "      <td>...</td>\n",
       "      <td>Canada</td>\n",
       "      <td>200</td>\n",
       "      <td>1538352180000</td>\n",
       "      <td>\"Mozilla/5.0 (Windows NT 6.1; WOW64) AppleWebK...</td>\n",
       "      <td>9</td>\n",
       "      <td>2018-10-01 00:03:00</td>\n",
       "      <td>2018-10-01</td>\n",
       "      <td>Boston-Cambridge-Newton</td>\n",
       "      <td>MA-NH</td>\n",
       "      <td>0</td>\n",
       "    </tr>\n",
       "    <tr>\n",
       "      <th>2</th>\n",
       "      <td>Adam Lambert</td>\n",
       "      <td>Logged In</td>\n",
       "      <td>Colin</td>\n",
       "      <td>M</td>\n",
       "      <td>51</td>\n",
       "      <td>Freeman</td>\n",
       "      <td>282.82730</td>\n",
       "      <td>paid</td>\n",
       "      <td>PUT</td>\n",
       "      <td>NextSong</td>\n",
       "      <td>...</td>\n",
       "      <td>Time For Miracles</td>\n",
       "      <td>200</td>\n",
       "      <td>1538352394000</td>\n",
       "      <td>Mozilla/5.0 (Windows NT 6.1; WOW64; rv:31.0) G...</td>\n",
       "      <td>30</td>\n",
       "      <td>2018-10-01 00:06:34</td>\n",
       "      <td>2018-10-01</td>\n",
       "      <td>Bakersfield</td>\n",
       "      <td>CA</td>\n",
       "      <td>0</td>\n",
       "    </tr>\n",
       "    <tr>\n",
       "      <th>3</th>\n",
       "      <td>Enigma</td>\n",
       "      <td>Logged In</td>\n",
       "      <td>Micah</td>\n",
       "      <td>M</td>\n",
       "      <td>80</td>\n",
       "      <td>Long</td>\n",
       "      <td>262.71302</td>\n",
       "      <td>free</td>\n",
       "      <td>PUT</td>\n",
       "      <td>NextSong</td>\n",
       "      <td>...</td>\n",
       "      <td>Knocking On Forbidden Doors</td>\n",
       "      <td>200</td>\n",
       "      <td>1538352416000</td>\n",
       "      <td>\"Mozilla/5.0 (Windows NT 6.1; WOW64) AppleWebK...</td>\n",
       "      <td>9</td>\n",
       "      <td>2018-10-01 00:06:56</td>\n",
       "      <td>2018-10-01</td>\n",
       "      <td>Boston-Cambridge-Newton</td>\n",
       "      <td>MA-NH</td>\n",
       "      <td>0</td>\n",
       "    </tr>\n",
       "    <tr>\n",
       "      <th>4</th>\n",
       "      <td>Daft Punk</td>\n",
       "      <td>Logged In</td>\n",
       "      <td>Colin</td>\n",
       "      <td>M</td>\n",
       "      <td>52</td>\n",
       "      <td>Freeman</td>\n",
       "      <td>223.60771</td>\n",
       "      <td>paid</td>\n",
       "      <td>PUT</td>\n",
       "      <td>NextSong</td>\n",
       "      <td>...</td>\n",
       "      <td>Harder Better Faster Stronger</td>\n",
       "      <td>200</td>\n",
       "      <td>1538352676000</td>\n",
       "      <td>Mozilla/5.0 (Windows NT 6.1; WOW64; rv:31.0) G...</td>\n",
       "      <td>30</td>\n",
       "      <td>2018-10-01 00:11:16</td>\n",
       "      <td>2018-10-01</td>\n",
       "      <td>Bakersfield</td>\n",
       "      <td>CA</td>\n",
       "      <td>0</td>\n",
       "    </tr>\n",
       "  </tbody>\n",
       "</table>\n",
       "<p>5 rows × 22 columns</p>\n",
       "</div>"
      ],
      "text/plain": [
       "             artist       auth firstName gender  itemInSession lastName  \\\n",
       "0    Martha Tilston  Logged In     Colin      M             50  Freeman   \n",
       "1  Five Iron Frenzy  Logged In     Micah      M             79     Long   \n",
       "2      Adam Lambert  Logged In     Colin      M             51  Freeman   \n",
       "3            Enigma  Logged In     Micah      M             80     Long   \n",
       "4         Daft Punk  Logged In     Colin      M             52  Freeman   \n",
       "\n",
       "      length level method      page  ...                            song  \\\n",
       "0  277.89016  paid    PUT  NextSong  ...                       Rockpools   \n",
       "1  236.09424  free    PUT  NextSong  ...                          Canada   \n",
       "2  282.82730  paid    PUT  NextSong  ...               Time For Miracles   \n",
       "3  262.71302  free    PUT  NextSong  ...     Knocking On Forbidden Doors   \n",
       "4  223.60771  paid    PUT  NextSong  ...   Harder Better Faster Stronger   \n",
       "\n",
       "   status             ts                                          userAgent  \\\n",
       "0     200  1538352117000  Mozilla/5.0 (Windows NT 6.1; WOW64; rv:31.0) G...   \n",
       "1     200  1538352180000  \"Mozilla/5.0 (Windows NT 6.1; WOW64) AppleWebK...   \n",
       "2     200  1538352394000  Mozilla/5.0 (Windows NT 6.1; WOW64; rv:31.0) G...   \n",
       "3     200  1538352416000  \"Mozilla/5.0 (Windows NT 6.1; WOW64) AppleWebK...   \n",
       "4     200  1538352676000  Mozilla/5.0 (Windows NT 6.1; WOW64; rv:31.0) G...   \n",
       "\n",
       "   userId              tsDate        date                     city   state  \\\n",
       "0      30 2018-10-01 00:01:57  2018-10-01              Bakersfield      CA   \n",
       "1       9 2018-10-01 00:03:00  2018-10-01  Boston-Cambridge-Newton   MA-NH   \n",
       "2      30 2018-10-01 00:06:34  2018-10-01              Bakersfield      CA   \n",
       "3       9 2018-10-01 00:06:56  2018-10-01  Boston-Cambridge-Newton   MA-NH   \n",
       "4      30 2018-10-01 00:11:16  2018-10-01              Bakersfield      CA   \n",
       "\n",
       "  churn  \n",
       "0     0  \n",
       "1     0  \n",
       "2     0  \n",
       "3     0  \n",
       "4     0  \n",
       "\n",
       "[5 rows x 22 columns]"
      ]
     },
     "execution_count": 119,
     "metadata": {},
     "output_type": "execute_result"
    }
   ],
   "source": [
    "df.head()"
   ]
  },
  {
   "cell_type": "code",
   "execution_count": 120,
   "metadata": {},
   "outputs": [
    {
     "data": {
      "image/png": "[encoded data removed]",
      "text/plain": [
       "<matplotlib.figure.Figure at 0x7fce2ed61550>"
      ]
     },
     "metadata": {
      "needs_background": "light"
     },
     "output_type": "display_data"
    }
   ],
   "source": [
    "plt.figure(figsize=(20, 10))\n",
    "ax = (df['tsDate'].groupby(df['tsDate'].dt.hour)\n",
    "                     .count()).plot(kind=\"bar\", color='red')\n",
    "ax.set_facecolor('#eeeeee')\n",
    "ax.set_xlabel(\"hour of the day\")\n",
    "ax.set_ylabel(\"count\")\n",
    "ax.set_title('title')\n",
    "plt.show()"
   ]
  },
  {
   "cell_type": "code",
   "execution_count": 121,
   "metadata": {},
   "outputs": [
    {
     "data": {
      "image/png": "[encoded data removed]",
      "text/plain": [
       "<matplotlib.figure.Figure at 0x7fcdf8ef7908>"
      ]
     },
     "metadata": {
      "needs_background": "light"
     },
     "output_type": "display_data"
    }
   ],
   "source": [
    "plt.figure(figsize=(20, 10))\n",
    "ax = (df['tsDate'].groupby(df['tsDate'].dt.day)\n",
    "                     .count()).plot(kind=\"bar\", color='red')\n",
    "ax.set_facecolor('#eeeeee')\n",
    "ax.set_xlabel(\"hour of the day\")\n",
    "ax.set_ylabel(\"count\")\n",
    "ax.set_title('title')\n",
    "plt.show()"
   ]
  },
  {
   "cell_type": "code",
   "execution_count": 122,
   "metadata": {},
   "outputs": [
    {
     "data": {
      "image/png": "[encoded data removed]",
      "text/plain": [
       "<matplotlib.figure.Figure at 0x7fce54be1080>"
      ]
     },
     "metadata": {
      "needs_background": "light"
     },
     "output_type": "display_data"
    }
   ],
   "source": [
    "# create a new column with the hour of the day extracted from the timestamp\n",
    "df = df_clean.withColumn(\"hour\", hour(from_unixtime(col(\"ts\") / 1000)))\n",
    "\n",
    "# calculate the percentage of users who used the app during each hour of the day\n",
    "churned_counts = df.filter(col(\"churn\") == 1).groupBy(\"hour\").count().withColumnRenamed(\"count\", \"churned_count\")\n",
    "total_churned = churned_counts.agg({\"churned_count\": \"sum\"}).collect()[0][0]\n",
    "churned_counts = churned_counts.withColumn(\"churned_perc\", churned_counts[\"churned_count\"] / total_churned * 100)\n",
    "\n",
    "non_churned_counts = df.filter(col(\"churn\") == 0).groupBy(\"hour\").count().withColumnRenamed(\"count\", \"non_churned_count\")\n",
    "total_non_churned = non_churned_counts.agg({\"non_churned_count\": \"sum\"}).collect()[0][0]\n",
    "non_churned_counts = non_churned_counts.withColumn(\"non_churned_perc\", non_churned_counts[\"non_churned_count\"] / total_non_churned * 100)\n",
    "\n",
    "# convert the PySpark dataframes to Pandas dataframes\n",
    "churned_df = churned_counts.select(\"hour\", \"churned_perc\").toPandas()\n",
    "non_churned_df = non_churned_counts.select(\"hour\", \"non_churned_perc\").toPandas()\n",
    "\n",
    "# create a single histogram using matplotlib\n",
    "fig, ax = plt.subplots(figsize=(10, 5))\n",
    "ax.hist([churned_df[\"hour\"], non_churned_df[\"hour\"]], bins=24, color=['red', 'green'], label=['Churned Users', 'Non-Churned Users'], weights=[churned_df[\"churned_perc\"], non_churned_df[\"non_churned_perc\"]])\n",
    "\n",
    "# set plot labels and title\n",
    "ax.set_xlabel(\"Hour of the Day\")\n",
    "ax.set_ylabel(\"Percentage\")\n",
    "ax.set_title(\"App Usage by Time of Day\")\n",
    "ax.legend()\n",
    "\n",
    "# display the plot\n",
    "plt.show()"
   ]
  },
  {
   "cell_type": "code",
   "execution_count": 123,
   "metadata": {},
   "outputs": [
    {
     "data": {
      "image/png": "[encoded data removed]",
      "text/plain": [
       "<matplotlib.figure.Figure at 0x7fce165b72b0>"
      ]
     },
     "metadata": {
      "needs_background": "light"
     },
     "output_type": "display_data"
    }
   ],
   "source": [
    "import numpy as np\n",
    "from pyspark.sql.functions import dayofmonth\n",
    "import seaborn as sns\n",
    "\n",
    "# create a new column with the day of the month extracted from the timestamp\n",
    "df = df_clean.withColumn(\"day\", dayofmonth(from_unixtime(col(\"ts\") / 1000)))\n",
    "\n",
    "# calculate the percentage of churned and non-churned users who used the app on each day of the month\n",
    "churned_counts = df.filter(col(\"churn\") == 1).groupBy(\"day\").agg(count(\"*\").alias(\"churned_count\"))\n",
    "total_churned_users = df.filter(col(\"churn\") == 1).agg(countDistinct(\"userId\")).collect()[0][0]\n",
    "churned_counts = churned_counts.withColumn(\"churned_pct\", churned_counts[\"churned_count\"] / total_churned_users * 100)\n",
    "\n",
    "non_churned_counts = df.filter(col(\"churn\") == 0).groupBy(\"day\").agg(count(\"*\").alias(\"non_churned_count\"))\n",
    "total_non_churned_users = df.filter(col(\"churn\") == 0).agg(countDistinct(\"userId\")).collect()[0][0]\n",
    "non_churned_counts = non_churned_counts.withColumn(\"non_churned_pct\", non_churned_counts[\"non_churned_count\"] / total_non_churned_users * 100)\n",
    "\n",
    "# convert the PySpark dataframes to two Pandas dataframes\n",
    "churned_df = churned_counts.select(\"day\", \"churned_pct\").toPandas()\n",
    "non_churned_df = non_churned_counts.select(\"day\", \"non_churned_pct\").toPandas()\n",
    "\n",
    "# create a single histogram using matplotlib\n",
    "fig, ax = plt.subplots(figsize=(10, 5))\n",
    "bins = np.arange(1, 32)\n",
    "width = 0.4\n",
    "colors = sns.color_palette(\"Set2\", n_colors=2)\n",
    "\n",
    "ax.bar(bins - width/2, churned_df[\"churned_pct\"], width=width, label=\"Churned Users\", color='red')\n",
    "ax.bar(bins + width/2, non_churned_df[\"non_churned_pct\"], width=width, label=\"Non-Churned Users\", color='green')\n",
    "\n",
    "# set plot labels and title\n",
    "ax.set_xlabel(\"Day of the Month\")\n",
    "ax.set_ylabel(\"Percentage\")\n",
    "ax.set_title(\"App Usage by Day of Month\")\n",
    "ax.legend()\n",
    "\n",
    "# display the plot\n",
    "plt.show()"
   ]
  },
  {
   "cell_type": "code",
   "execution_count": 124,
   "metadata": {},
   "outputs": [
    {
     "data": {
      "image/png": "[encoded data removed]",
      "text/plain": [
       "<matplotlib.figure.Figure at 0x7fce13498390>"
      ]
     },
     "metadata": {
      "needs_background": "light"
     },
     "output_type": "display_data"
    }
   ],
   "source": [
    "# create a new column with the month of the year extracted from the timestamp\n",
    "df = df_clean.withColumn(\"month\", month(from_unixtime(col(\"ts\") / 1000)))\n",
    "\n",
    "# convert the PySpark dataframe to two Pandas dataframes, one for churned users and one for non-churned users\n",
    "churned_df = df.filter(col(\"Churn\") == 1).select(\"month\").toPandas()\n",
    "non_churned_df = df.filter(col(\"Churn\") == 0).select(\"month\").toPandas()\n",
    "\n",
    "# create a single histogram using matplotlib\n",
    "fig, ax = plt.subplots(figsize=(10, 5))\n",
    "ax.hist([churned_df[\"month\"], non_churned_df[\"month\"]], bins=12, range=(1, 13),  color=['red', 'green'], label=['Churned Users', 'Non-Churned Users'])\n",
    "\n",
    "# set plot labels and title\n",
    "ax.set_xlabel(\"Month of the Year\")\n",
    "ax.set_ylabel(\"Frequency\")\n",
    "ax.set_title(\"App Usage by Month of the Year\")\n",
    "ax.set_xticks(range(1, 13))\n",
    "ax.set_xticklabels(['Jan', 'Feb', 'Mar', 'Apr', 'May', 'Jun', 'Jul', 'Aug', 'Sep', 'Oct', 'Nov', 'Dec'])\n",
    "ax.legend()\n",
    "\n",
    "# display the plot\n",
    "plt.show()\n"
   ]
  },
  {
   "cell_type": "code",
   "execution_count": 125,
   "metadata": {},
   "outputs": [
    {
     "data": {
      "image/png": "[encoded data removed]",
      "text/plain": [
       "<matplotlib.figure.Figure at 0x7fce54be1080>"
      ]
     },
     "metadata": {
      "needs_background": "light"
     },
     "output_type": "display_data"
    }
   ],
   "source": [
    "# create a new column with the day of the week extracted from the timestamp\n",
    "df = df_clean.withColumn(\"day_of_week\", dayofweek(from_unixtime(col(\"ts\") / 1000)))\n",
    "\n",
    "# convert the PySpark dataframe to two Pandas dataframes, one for churned users and one for non-churned users\n",
    "churned_df = df.filter(col(\"Churn\") == 1).select(\"day_of_week\").toPandas()\n",
    "non_churned_df = df.filter(col(\"Churn\") == 0).select(\"day_of_week\").toPandas()\n",
    "\n",
    "# create a single histogram using matplotlib\n",
    "fig, ax = plt.subplots(figsize=(10, 5))\n",
    "ax.hist([churned_df[\"day_of_week\"], non_churned_df[\"day_of_week\"]], bins=7, range=(1, 8), color=['red', 'green'], label=['Churned Users', 'Non-Churned Users'])\n",
    "\n",
    "# set plot labels and title\n",
    "ax.set_xlabel(\"Day of the Week\")\n",
    "ax.set_ylabel(\"Frequency\")\n",
    "ax.set_title(\"App Usage by Day of the Week\")\n",
    "ax.set_xticks(range(1, 8))\n",
    "ax.set_xticklabels(['Mon', 'Tue', 'Wed', 'Thu', 'Fri', 'Sat', 'Sun'])\n",
    "ax.legend()\n",
    "\n",
    "# display the plot\n",
    "plt.show()"
   ]
  },
  {
   "cell_type": "markdown",
   "metadata": {},
   "source": [
    "# Feature Engineering\n",
    "\n",
    "To predict user churn on a music app, we suggest the following features:\n",
    "\n",
    "- User page distribution: captures user behavior and preferences\n",
    "- Mean and standard deviation of songs: captures user engagement and activity\n",
    "- Sessions count: measures user activity and usage\n",
    "- Average songs per session: captures user engagement and behavior\n",
    "- Total subscription days: measures user loyalty and commitment\n",
    "- Gender: captures user demographics and preferences\n",
    "- Level: captures user engagement and monetization potential\n",
    "- Number of unique artists: measures user diversity and interests\n",
    "\n",
    "Including these features in our model can help identify users at risk of churning and take actions to retain them.\n",
    "\n"
   ]
  },
  {
   "cell_type": "code",
   "execution_count": 126,
   "metadata": {},
   "outputs": [
    {
     "name": "stdout",
     "output_type": "stream",
     "text": [
      "+------+-----+\n",
      "|userId|Churn|\n",
      "+------+-----+\n",
      "|    19|    0|\n",
      "|100005|    1|\n",
      "|200007|    0|\n",
      "|300007|    1|\n",
      "|    50|    0|\n",
      "+------+-----+\n",
      "only showing top 5 rows\n",
      "\n"
     ]
    }
   ],
   "source": [
    "churn_users = df_clean.select('userId', 'Churn').dropDuplicates()\n",
    "\n",
    "# check\n",
    "churn_users.show(5)"
   ]
  },
  {
   "cell_type": "code",
   "execution_count": 127,
   "metadata": {},
   "outputs": [
    {
     "name": "stdout",
     "output_type": "stream",
     "text": [
      "+------+------+\n",
      "|userId|gender|\n",
      "+------+------+\n",
      "|    44|     0|\n",
      "|    46|     0|\n",
      "|    41|     0|\n",
      "|    72|     0|\n",
      "|300023|     0|\n",
      "+------+------+\n",
      "only showing top 5 rows\n",
      "\n",
      "(225, 2)\n"
     ]
    }
   ],
   "source": [
    "gender_users = df_clean.select('userId', 'gender').dropDuplicates()\n",
    "gender_users = gender_users.withColumn(\"gender\", when(gender_users.gender == \"M\",1)\n",
    "                                 .when(gender_users.gender == \"F\",0)\n",
    "                                 .when(gender_users.gender.isNull() ,1)\n",
    "                                 .otherwise(gender_users.gender))\n",
    "gender_users.show(5)\n",
    "print((gender_users.count(), len(gender_users.columns)))"
   ]
  },
  {
   "cell_type": "code",
   "execution_count": 128,
   "metadata": {},
   "outputs": [
    {
     "name": "stdout",
     "output_type": "stream",
     "text": [
      "+------+-----+\n",
      "|userId|level|\n",
      "+------+-----+\n",
      "|    10|    1|\n",
      "|   100|    1|\n",
      "|100001|    0|\n",
      "|100002|    1|\n",
      "|100003|    0|\n",
      "+------+-----+\n",
      "only showing top 5 rows\n",
      "\n",
      "(225, 2)\n"
     ]
    }
   ],
   "source": [
    "level_users = df_clean.select('userId', 'level').dropDuplicates()\n",
    "level_users = level_users.withColumn(\"level\", when(level_users.level == \"paid\",1)\n",
    "                                 .when(level_users.level == \"free\",0)\n",
    "                                 .when(level_users.level.isNull() ,\"1\")\n",
    "                                 .otherwise(level_users.level))\n",
    "level_users = level_users.groupBy('userId').agg(max(col('level')).alias('level'))\n",
    "level_users.sort('userId').show(5)\n",
    "print((level_users.count(), len(level_users.columns)))\n"
   ]
  },
  {
   "cell_type": "code",
   "execution_count": 139,
   "metadata": {},
   "outputs": [
    {
     "data": {
      "text/plain": [
       "Row(userId='10', norm_About=0.25157232704402516, norm_Add Friend=1.509433962264151, norm_Add to Playlist=1.1320754716981132, norm_Downgrade=0.8805031446540881, norm_Error=0.0, norm_Help=0.12578616352201258, norm_Home=3.7735849056603774, norm_Logout=1.3836477987421385, norm_NextSong=84.65408805031447, norm_Roll Advert=0.12578616352201258, norm_Save Settings=0.12578616352201258, norm_Settings=0.8805031446540881, norm_Submit Downgrade=0.0, norm_Submit Upgrade=0.0, norm_Thumbs Down=0.5031446540880503, norm_Thumbs Up=4.654088050314465, norm_Upgrade=0.0)"
      ]
     },
     "execution_count": 139,
     "metadata": {},
     "output_type": "execute_result"
    }
   ],
   "source": [
    "df = df_clean.toPandas()\n",
    "\n",
    "# The distribution of pages per user (FILLING NAN with 0)\n",
    "user_page_distribution = df.groupby('userId')['page'].value_counts().unstack().fillna(0)\n",
    "\n",
    "# Drop Cancel and Cancellation Confirmation columns\n",
    "user_page_distribution = user_page_distribution.drop(columns=['Cancel', 'Cancellation Confirmation'])\n",
    "\n",
    "# Normalize each row to sum to 1\n",
    "user_page_distribution = user_page_distribution.div(user_page_distribution.sum(axis=1), axis=0)\n",
    "\n",
    "# Convert counts to percentages\n",
    "user_page_distribution = user_page_distribution.multiply(100)\n",
    "\n",
    "# Rename columns\n",
    "user_page_distribution.columns = [f'norm_{col}' for col in user_page_distribution.columns]\n",
    "\n",
    "# Reset index\n",
    "user_page_distribution = user_page_distribution.reset_index()\n",
    "user_page_distribution_spark = spark.createDataFrame(user_page_distribution)\n",
    "\n",
    "user_page_distribution_spark.head()"
   ]
  },
  {
   "cell_type": "code",
   "execution_count": 131,
   "metadata": {},
   "outputs": [
    {
     "name": "stdout",
     "output_type": "stream",
     "text": [
      "+------+----------+\n",
      "|userId|num_aritst|\n",
      "+------+----------+\n",
      "|100010|       253|\n",
      "|200002|       340|\n",
      "|   125|         9|\n",
      "|    51|      1386|\n",
      "|   124|      2233|\n",
      "+------+----------+\n",
      "only showing top 5 rows\n",
      "\n"
     ]
    }
   ],
   "source": [
    "# Count the number of unique artists listened to by each user\n",
    "artist_count = df_clean.select('userId', 'artist').dropDuplicates().groupBy('userId').count().withColumnRenamed(\"count\", \"num_aritst\")\n",
    "artist_count.show(5)\n"
   ]
  },
  {
   "cell_type": "code",
   "execution_count": 132,
   "metadata": {},
   "outputs": [
    {
     "name": "stdout",
     "output_type": "stream",
     "text": [
      "+------+------------------+------------------+\n",
      "|userId|        mean_songs|       stdev_songs|\n",
      "+------+------------------+------------------+\n",
      "|100010|39.285714285714285| 22.96166577663945|\n",
      "|200002|              64.5|51.309843110264914|\n",
      "|   125|               8.0|               0.0|\n",
      "|    51|             211.1| 168.1483802413148|\n",
      "|   124|145.67857142857142|137.40587446912284|\n",
      "+------+------------------+------------------+\n",
      "only showing top 5 rows\n",
      "\n"
     ]
    }
   ],
   "source": [
    "# Filter the dataframe to only include rows where the 'page' column is 'NextSong'\n",
    "song_user_df = df_clean.filter(df_clean.page == 'NextSong')\n",
    "\n",
    "# Group the dataframe by 'userId' and 'sessionId', and count the number of occurrences\n",
    "song_user_df = song_user_df.groupBy('userId', 'sessionId').count()\n",
    "\n",
    "# Group the dataframe by 'userId', and calculate the average and standard deviation of the count of songs per session\n",
    "song_user_df = song_user_df.groupBy('userId').agg(\n",
    "    sF.avg('count').alias('mean_songs'), \n",
    "    sF.stddev('count').alias('stdev_songs')\n",
    ")\n",
    "\n",
    "# Replace any null values in the dataframe with 0\n",
    "song_user_df = song_user_df.na.fill(0)\n",
    "\n",
    "# Show the first 5 rows of the resulting dataframe\n",
    "song_user_df.show(5)"
   ]
  },
  {
   "cell_type": "code",
   "execution_count": 133,
   "metadata": {},
   "outputs": [
    {
     "name": "stdout",
     "output_type": "stream",
     "text": [
      "+------+--------------+\n",
      "|userId|sessions_count|\n",
      "+------+--------------+\n",
      "|100010|             7|\n",
      "|200002|             6|\n",
      "|   125|             1|\n",
      "|    51|            10|\n",
      "|   124|            29|\n",
      "+------+--------------+\n",
      "only showing top 5 rows\n",
      "\n",
      "(225, 2)\n"
     ]
    }
   ],
   "source": [
    "# Select the userId and sessionId columns, drop duplicate rows, and group by userId to count the number of sessions\n",
    "sessions_count = df_clean.select([\"userId\", \"sessionId\"]).dropDuplicates().groupby([\"userId\"]).count()\n",
    "\n",
    "# Rename the count column to sessions_count\n",
    "sessions_count = sessions_count.withColumnRenamed('count', 'sessions_count')\n",
    "\n",
    "# Show the first 5 rows of the DataFrame\n",
    "sessions_count.show(5)\n",
    "\n",
    "# Print the number of rows and columns in the DataFrame\n",
    "print((sessions_count.count(), len(sessions_count.columns)))"
   ]
  },
  {
   "cell_type": "code",
   "execution_count": 134,
   "metadata": {},
   "outputs": [
    {
     "name": "stdout",
     "output_type": "stream",
     "text": [
      "+------+-------------------------+\n",
      "|userId|average_songs_per_session|\n",
      "+------+-------------------------+\n",
      "|100010|        54.42857142857143|\n",
      "|200002|                     79.0|\n",
      "|   125|                     11.0|\n",
      "|    51|                    246.4|\n",
      "|   124|        166.3793103448276|\n",
      "+------+-------------------------+\n",
      "only showing top 5 rows\n",
      "\n",
      "(225, 2)\n"
     ]
    }
   ],
   "source": [
    "songs_per_session = df_clean.groupby(['userId', 'sessionId']).count().groupby('userId').agg(avg('count').alias('average_songs_per_session'))\n",
    "\n",
    "# Now we can display the resulting dataframe\n",
    "songs_per_session.show(5)\n",
    "print((songs_per_session.count(), len(songs_per_session.columns)))"
   ]
  },
  {
   "cell_type": "code",
   "execution_count": 136,
   "metadata": {},
   "outputs": [
    {
     "name": "stdout",
     "output_type": "stream",
     "text": [
      "+------+--------------+\n",
      "|userId|total_sub_days|\n",
      "+------+--------------+\n",
      "|200024|            28|\n",
      "|200025|           116|\n",
      "|   118|            63|\n",
      "|    28|            44|\n",
      "|100003|            22|\n",
      "+------+--------------+\n",
      "only showing top 5 rows\n",
      "\n",
      "(225, 2)\n"
     ]
    }
   ],
   "source": [
    "from pyspark.sql.functions import col\n",
    "# select the relevant columns and group by userId\n",
    "df_sub = df_clean.select(\"userId\", \"registration\", \"ts\") \\\n",
    "                 .groupBy(\"userId\", \"registration\") \\\n",
    "                 .agg(max(\"ts\").alias(\"last_ts\"))\n",
    "\n",
    "# calculate the total days of subscription for each user\n",
    "df_sub = df_sub.withColumn(\"total_sub_days\", ((col(\"last_ts\") - col(\"registration\")) / 86400000).cast(\"int\"))\n",
    "df_sub = df_sub.drop(\"last_ts\", \"registration\")\n",
    "# display the results\n",
    "df_sub.show(5)\n",
    "print((df_sub.count(), len(df_sub.columns)))"
   ]
  },
  {
   "cell_type": "code",
   "execution_count": 137,
   "metadata": {},
   "outputs": [
    {
     "name": "stdout",
     "output_type": "stream",
     "text": [
      "root\n",
      " |-- userId: string (nullable = true)\n",
      " |-- Churn: integer (nullable = true)\n",
      " |-- gender: string (nullable = true)\n",
      " |-- level: string (nullable = true)\n",
      " |-- norm_About: double (nullable = true)\n",
      " |-- norm_Add Friend: double (nullable = true)\n",
      " |-- norm_Add to Playlist: double (nullable = true)\n",
      " |-- norm_Downgrade: double (nullable = true)\n",
      " |-- norm_Error: double (nullable = true)\n",
      " |-- norm_Help: double (nullable = true)\n",
      " |-- norm_Home: double (nullable = true)\n",
      " |-- norm_Logout: double (nullable = true)\n",
      " |-- norm_NextSong: double (nullable = true)\n",
      " |-- norm_Roll Advert: double (nullable = true)\n",
      " |-- norm_Save Settings: double (nullable = true)\n",
      " |-- norm_Settings: double (nullable = true)\n",
      " |-- norm_Submit Downgrade: double (nullable = true)\n",
      " |-- norm_Submit Upgrade: double (nullable = true)\n",
      " |-- norm_Thumbs Down: double (nullable = true)\n",
      " |-- norm_Thumbs Up: double (nullable = true)\n",
      " |-- norm_Upgrade: double (nullable = true)\n",
      " |-- num_aritst: long (nullable = false)\n",
      " |-- sessions_count: long (nullable = false)\n",
      " |-- mean_songs: double (nullable = false)\n",
      " |-- stdev_songs: double (nullable = false)\n",
      " |-- average_songs_per_session: double (nullable = true)\n",
      " |-- total_sub_days: integer (nullable = true)\n",
      "\n"
     ]
    }
   ],
   "source": [
    "# Joining all the individual dataframes to create the final dataset\n",
    "final_dataset = churn_users.join(gender_users,\"userId\", how='inner').dropDuplicates()\n",
    "final_dataset = final_dataset.join(level_users,\"userId\", how='inner').dropDuplicates()\n",
    "final_dataset = final_dataset.join(user_page_distribution_spark,\"userId\", how='inner').dropDuplicates()\n",
    "final_dataset = final_dataset.join(artist_count,\"userId\", how='inner').dropDuplicates()\n",
    "final_dataset = final_dataset.join(sessions_count,\"userId\", how='inner').dropDuplicates()\n",
    "final_dataset = final_dataset.join(song_user_df,\"userId\", how='inner').dropDuplicates()\n",
    "final_dataset = final_dataset.join(songs_per_session,\"userId\", how='inner').dropDuplicates()\n",
    "final_dataset = final_dataset.join(df_sub,\"userId\", how='inner').dropDuplicates()\n",
    "\n",
    "# Printing the schema of the final dataset to verify the column names and types\n",
    "final_dataset.printSchema()\n"
   ]
  },
  {
   "cell_type": "markdown",
   "metadata": {},
   "source": [
    "# Modeling\n",
    "Split the full dataset into train, test, and validation sets. Test out several of the machine learning methods you learned. Evaluate the accuracy of the various models, tuning parameters as necessary. Determine your winning model based on test accuracy and report results on the validation set. Since the churned users are a fairly small subset, I suggest using F1 score as the metric to optimize."
   ]
  },
  {
   "cell_type": "code",
   "execution_count": 67,
   "metadata": {},
   "outputs": [
    {
     "name": "stdout",
     "output_type": "stream",
     "text": [
      "Area Under ROC: 0.7676630434782605\n",
      "Accuracy: 0.7419354838709677\n",
      "Precision: 0.5504682622268471\n",
      "Recall: 0.7419354838709677\n",
      "F1 Score: 0.6320191158900836\n"
     ]
    }
   ],
   "source": [
    "from pyspark.sql import SparkSession\n",
    "from pyspark.ml.feature import VectorAssembler\n",
    "from pyspark.ml.classification import LogisticRegression\n",
    "from pyspark.ml.evaluation import BinaryClassificationEvaluator, MulticlassClassificationEvaluator\n",
    "from pyspark.ml.tuning import CrossValidator, ParamGridBuilder\n",
    "\n",
    "# Create a SparkSession\n",
    "spark = SparkSession.builder.appName(\"ChurnPrediction\").getOrCreate()\n",
    "\n",
    "# Load the dataset into a PySpark DataFrame\n",
    "df = final_dataset\n",
    "\n",
    "# Split the dataset into training and test datasets\n",
    "(training_data, test_data) = df.randomSplit([0.7, 0.3], seed=42)\n",
    "\n",
    "# Assemble the feature vector\n",
    "assembler = VectorAssembler(inputCols=['About', 'Add Friend', 'Add to Playlist', 'Downgrade', 'Error', 'Help', 'Home', 'Logout', 'NextSong', 'Roll Advert', 'Save Settings', 'Settings', 'Submit Downgrade', 'Submit Upgrade', 'Thumbs Down', 'Thumbs Up', 'Upgrade', 'num_aritst', 'sessions_count', 'mean_songs', 'stdev_songs','total_sub_days'], outputCol='features')\n",
    "training_data = assembler.transform(training_data).select('features', 'Churn')\n",
    "test_data = assembler.transform(test_data).select('features', 'Churn')\n",
    "\n",
    "# Create an evaluator for model performance evaluation\n",
    "evaluator = BinaryClassificationEvaluator(rawPredictionCol=\"rawPrediction\", labelCol=\"Churn\")\n",
    "\n",
    "# Create a logistic regression model\n",
    "lr = LogisticRegression(featuresCol='features', labelCol='Churn', maxIter=10)\n",
    "\n",
    "# Create a parameter grid to search over\n",
    "paramGrid = ParamGridBuilder() \\\n",
    "    .addGrid(lr.regParam, [0.01, 0.1, 1]) \\\n",
    "    .addGrid(lr.elasticNetParam, [0, 0.5, 1]) \\\n",
    "    .build()\n",
    "\n",
    "# Create a 5-fold CrossValidator\n",
    "crossval = CrossValidator(estimator=lr,\n",
    "                          estimatorParamMaps=paramGrid,\n",
    "                          evaluator=evaluator,\n",
    "                          numFolds=5)\n",
    "\n",
    "# Fit the model with CrossValidator\n",
    "cvModel = crossval.fit(training_data)\n",
    "\n",
    "# Use the best model to make predictions on the test dataset\n",
    "predictions = cvModel.transform(test_data)\n",
    "\n",
    "# Evaluate the performance of the best model using binary classification evaluator\n",
    "areaUnderROC = evaluator.evaluate(predictions)\n",
    "print(\"Area Under ROC: \" + str(areaUnderROC))\n",
    "\n",
    "# Evaluate the performance of the best model using multiclass classification evaluator\n",
    "evaluator = MulticlassClassificationEvaluator(predictionCol=\"prediction\", labelCol=\"Churn\")\n",
    "evaluator.setMetricName(\"accuracy\")\n",
    "accuracy = evaluator.evaluate(predictions)\n",
    "print(\"Accuracy: \" + str(accuracy))\n",
    "\n",
    "evaluator.setMetricName(\"weightedPrecision\")\n",
    "precision = evaluator.evaluate(predictions)\n",
    "print(\"Precision: \" + str(precision))\n",
    "\n",
    "evaluator.setMetricName(\"weightedRecall\")\n",
    "recall = evaluator.evaluate(predictions)\n",
    "print(\"Recall: \" + str(recall))\n",
    "\n",
    "evaluator.setMetricName(\"f1\")\n",
    "f1_score = evaluator.evaluate(predictions)\n",
    "print(\"F1 Score: \" + str(f1_score))"
   ]
  },
  {
   "cell_type": "code",
   "execution_count": 64,
   "metadata": {},
   "outputs": [
    {
     "name": "stdout",
     "output_type": "stream",
     "text": [
      "Area Under ROC: 0.7350543478260868\n",
      "Accuracy: 0.7419354838709677\n",
      "Precision: 0.7060931899641577\n",
      "Recall: 0.7419354838709677\n",
      "F1 Score: 0.7092473118279571\n"
     ]
    }
   ],
   "source": [
    "from pyspark.sql import SparkSession\n",
    "from pyspark.ml.feature import VectorAssembler\n",
    "from pyspark.ml.classification import RandomForestClassifier\n",
    "from pyspark.ml.evaluation import BinaryClassificationEvaluator, MulticlassClassificationEvaluator\n",
    "from pyspark.ml.tuning import ParamGridBuilder, CrossValidator\n",
    "\n",
    "# Create a SparkSession\n",
    "spark = SparkSession.builder.appName(\"ChurnPrediction\").getOrCreate()\n",
    "\n",
    "# Load the dataset into a PySpark DataFrame\n",
    "df = final_dataset\n",
    "\n",
    "# Split the dataset into training and test datasets\n",
    "(training_data, test_data) = df.randomSplit([0.7, 0.3], seed=42)\n",
    "\n",
    "# Assemble the feature vector\n",
    "assembler = VectorAssembler(inputCols=['About', 'Add Friend', 'Add to Playlist', 'Downgrade', 'Error', 'Help', 'Home', 'Logout', 'NextSong', 'Roll Advert', 'Save Settings', 'Settings', 'Submit Downgrade', 'Submit Upgrade', 'Thumbs Down', 'Thumbs Up', 'Upgrade', 'num_aritst', 'sessions_count', 'mean_songs', 'stdev_songs','total_sub_days'], outputCol='features')\n",
    "training_data = assembler.transform(training_data).select('features', 'Churn')\n",
    "test_data = assembler.transform(test_data).select('features', 'Churn')\n",
    "\n",
    "# Train a Random Forest Classifier with parameter tuning\n",
    "rf = RandomForestClassifier(featuresCol='features', labelCol='Churn')\n",
    "paramGrid = ParamGridBuilder() \\\n",
    "    .addGrid(rf.numTrees, [5, 10, 20]) \\\n",
    "    .addGrid(rf.maxDepth, [3, 5, 7]) \\\n",
    "    .build()\n",
    "crossval = CrossValidator(estimator=rf,\n",
    "                          estimatorParamMaps=paramGrid,\n",
    "                          evaluator=BinaryClassificationEvaluator(rawPredictionCol=\"rawPrediction\", labelCol=\"Churn\"),\n",
    "                          numFolds=5)\n",
    "cvModel = crossval.fit(training_data)\n",
    "rf_model = cvModel.bestModel\n",
    "\n",
    "# Use the trained model to make predictions on the test dataset\n",
    "predictions = rf_model.transform(test_data)\n",
    "\n",
    "# Evaluate the performance of the model using binary classification evaluator\n",
    "evaluator = BinaryClassificationEvaluator(rawPredictionCol=\"rawPrediction\", labelCol=\"Churn\")\n",
    "areaUnderROC = evaluator.evaluate(predictions)\n",
    "\n",
    "# Print the area under ROC\n",
    "print(\"Area Under ROC: \" + str(areaUnderROC))\n",
    "\n",
    "# Evaluate the performance of the model using multiclass classification evaluator\n",
    "evaluator = MulticlassClassificationEvaluator(predictionCol=\"prediction\", labelCol=\"Churn\")\n",
    "evaluator.setMetricName(\"accuracy\")\n",
    "accuracy = evaluator.evaluate(predictions)\n",
    "\n",
    "# Print the accuracy\n",
    "print(\"Accuracy: \" + str(accuracy))\n",
    "\n",
    "# Print the precision, recall, and F1 score\n",
    "evaluator.setMetricName(\"weightedPrecision\")\n",
    "precision = evaluator.evaluate(predictions)\n",
    "print(\"Precision: \" + str(precision))\n",
    "\n",
    "evaluator.setMetricName(\"weightedRecall\")\n",
    "recall = evaluator.evaluate(predictions)\n",
    "print(\"Recall: \" + str(recall))\n",
    "\n",
    "evaluator.setMetricName(\"f1\")\n",
    "f1_score = evaluator.evaluate(predictions)\n",
    "print(\"F1 Score: \" + str(f1_score))\n"
   ]
  },
  {
   "cell_type": "code",
   "execution_count": 65,
   "metadata": {},
   "outputs": [
    {
     "name": "stdout",
     "output_type": "stream",
     "text": [
      "Accuracy: 0.7096774193548387\n",
      "Precision: 0.686236559139785\n",
      "Recall: 0.7096774193548387\n",
      "F1 Score: 0.6949884792626728\n"
     ]
    }
   ],
   "source": [
    "# Create a SparkSession\n",
    "spark = SparkSession.builder.appName(\"ChurnPrediction\").getOrCreate()\n",
    "\n",
    "# Load the dataset into a PySpark DataFrame\n",
    "df = final_dataset\n",
    "\n",
    "# Split the dataset into training and test datasets\n",
    "(training_data, test_data) = df.randomSplit([0.7, 0.3], seed=42)\n",
    "\n",
    "from pyspark.ml.feature import VectorAssembler\n",
    "# Assemble the feature vector\n",
    "assembler = VectorAssembler(inputCols=['About', 'Add Friend', 'Add to Playlist', 'Downgrade', 'Error', 'Help', 'Home', 'Logout', 'NextSong', 'Roll Advert', 'Save Settings', 'Settings', 'Submit Downgrade', 'Submit Upgrade', 'Thumbs Down', 'Thumbs Up', 'Upgrade', 'num_aritst', 'sessions_count', 'mean_songs', 'stdev_songs','total_sub_days'], outputCol='features')\n",
    "training_data = assembler.transform(training_data).select('features', 'Churn')\n",
    "test_data = assembler.transform(test_data).select('features', 'Churn')\n",
    "\n",
    "# Create a decision tree classifier\n",
    "from pyspark.ml.classification import DecisionTreeClassifier\n",
    "dt = DecisionTreeClassifier(labelCol=\"Churn\", featuresCol=\"features\")\n",
    "\n",
    "# Create a parameter grid to search over\n",
    "from pyspark.ml.tuning import ParamGridBuilder\n",
    "paramGrid = ParamGridBuilder() \\\n",
    "    .addGrid(dt.maxDepth, [5, 10, 15]) \\\n",
    "    .addGrid(dt.impurity, ['gini', 'entropy']) \\\n",
    "    .build()\n",
    "\n",
    "# Create a 5-fold CrossValidator\n",
    "from pyspark.ml.evaluation import MulticlassClassificationEvaluator\n",
    "evaluator = MulticlassClassificationEvaluator(predictionCol=\"prediction\", labelCol=\"Churn\")\n",
    "evaluator.setMetricName(\"accuracy\")\n",
    "from pyspark.ml.tuning import CrossValidator\n",
    "crossval = CrossValidator(estimator=dt,\n",
    "                          estimatorParamMaps=paramGrid,\n",
    "                          evaluator=evaluator,\n",
    "                          numFolds=5)\n",
    "\n",
    "# Fit the model with CrossValidator\n",
    "cvModel = crossval.fit(training_data)\n",
    "\n",
    "# Use the best model to make predictions on the test dataset\n",
    "predictions = cvModel.transform(test_data)\n",
    "\n",
    "# Evaluate the performance of the best model using multiclass classification evaluator\n",
    "accuracy = evaluator.evaluate(predictions)\n",
    "print(\"Accuracy: \" + str(accuracy))\n",
    "\n",
    "evaluator.setMetricName(\"weightedPrecision\")\n",
    "precision = evaluator.evaluate(predictions)\n",
    "print(\"Precision: \" + str(precision))\n",
    "\n",
    "evaluator.setMetricName(\"weightedRecall\")\n",
    "recall = evaluator.evaluate(predictions)\n",
    "print(\"Recall: \" + str(recall))\n",
    "\n",
    "evaluator.setMetricName(\"f1\")\n",
    "f1_score = evaluator.evaluate(predictions)\n",
    "print(\"F1 Score: \" + str(f1_score))\n"
   ]
  },
  {
   "cell_type": "markdown",
   "metadata": {},
   "source": [
    "# Final Steps\n",
    "Clean up your code, adding comments and renaming variables to make the code easier to read and maintain. Refer to the Spark Project Overview page and Data Scientist Capstone Project Rubric to make sure you are including all components of the capstone project and meet all expectations. Remember, this includes thorough documentation in a README file in a Github repository, as well as a web app or blog post."
   ]
  },
  {
   "cell_type": "code",
   "execution_count": null,
   "metadata": {},
   "outputs": [],
   "source": [
    "from pyspark.sql import SparkSession\n",
    "\n",
    "# Stop the SparkSession if it is already running\n",
    "if 'spark' in locals():\n",
    "    spark.stop()\n",
    "\n",
    "# Create a new SparkSession\n",
    "spark = SparkSession.builder.appName('myAppName').getOrCreate()"
   ]
  },
  {
   "cell_type": "code",
   "execution_count": null,
   "metadata": {},
   "outputs": [],
   "source": []
  }
 ],
 "metadata": {
  "kernelspec": {
   "display_name": "Python 3",
   "language": "python",
   "name": "python3"
  },
  "language_info": {
   "codemirror_mode": {
    "name": "ipython",
    "version": 3
   },
   "file_extension": ".py",
   "mimetype": "text/x-python",
   "name": "python",
   "nbconvert_exporter": "python",
   "pygments_lexer": "ipython3",
   "version": "3.6.3"
  }
 },
 "nbformat": 4,
 "nbformat_minor": 2
}
